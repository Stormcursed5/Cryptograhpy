{
 "cells": [
  {
   "cell_type": "code",
   "execution_count": 1,
   "metadata": {},
   "outputs": [],
   "source": [
    "from cryptography.hazmat.primitives.asymmetric import rsa, padding\n",
    "from cryptography.hazmat.primitives import hashes\n",
    "from cryptography.hazmat.backends import default_backend\n",
    "from cryptography.exceptions import InvalidSignature"
   ]
  },
  {
   "cell_type": "markdown",
   "metadata": {},
   "source": [
    "rsa → lets you generate RSA keys.\n",
    "\n",
    "padding → defines how messages are padded before signing/verifying (RSA needs padding to be secure).\n",
    "\n",
    "hashes → provides secure hash functions (here, SHA-256).\n",
    "\n",
    "default_backend() → selects the cryptography backend (implementation details).\n",
    "\n",
    "InvalidSignature → exception raised when verification fails."
   ]
  },
  {
   "cell_type": "code",
   "execution_count": 2,
   "metadata": {},
   "outputs": [],
   "source": [
    "# --- Generate RSA key pair ---\n",
    "private_key = rsa.generate_private_key(\n",
    "    public_exponent=65537,\n",
    "    key_size=2048,\n",
    "    backend=default_backend()\n",
    ")\n",
    "public_key = private_key.public_key()"
   ]
  },
  {
   "cell_type": "markdown",
   "metadata": {},
   "source": [
    "Generates a private RSA key (2048 bits, secure).\n",
    "\n",
    "public_exponent=65537 is the standard choice for RSA (fast + secure).\n",
    "\n",
    "From the private key, we derive the public key."
   ]
  },
  {
   "cell_type": "code",
   "execution_count": 9,
   "metadata": {},
   "outputs": [],
   "source": [
    "# --- Original message ---\n",
    "message = b\"Nature is for the satisfied or hollow/And what does it add up to in this land?/A patch of wood, some ripples in the sand./A modest hill where modest villas follow./ Give me the city streets, the urban grey,/Quays and canals that keep the water tamed,/The clouds that never look finer than when, framed/By attic windows, they go their windswept way./The least expectant have most to marvel at./Life keeps its wonders under lock and key/Until it springs them on us, rich, complete./One dreary morning all this dawned on me,/When, soaking wet in drizzly Dapper Street,/I suddenly felt happy, just like that.\""
   ]
  },
  {
   "cell_type": "markdown",
   "metadata": {},
   "source": [
    "b\"...\" means it’s stored as bytes, not a Python string.\n",
    "\n",
    "This is important because cryptographic operations work on byte sequences."
   ]
  },
  {
   "cell_type": "code",
   "execution_count": 10,
   "metadata": {},
   "outputs": [],
   "source": [
    "def bytes_to_bitstring(data: bytes) -> str:\n",
    "    return ''.join(f'{b:08b}' for b in data)\n",
    "\n",
    "## This function takes a bytes object and turns it into a string of 0s and 1s, \n",
    "## where each byte is represented as 8 bits. \n",
    "## So: it converts bytes → string of bits (0 and 1).\n",
    "\n",
    "## data: bytes Means that the function expects a bytes object as input (e.g., b\"ABC\" or bytes([65, 66, 67])).\n",
    "## -> str Means that the function returns a string.\n",
    "\n",
    "## return ''.join(f'{b:08b}' for b in data) Means that we are using a generator expression inside a ''.join(...).\n",
    "\n",
    "## It loops over each b in the data (each b is an integer between 0 and 255, since a byte = 8 bits).\n",
    "\n",
    "## For each b, it formats it as a binary string of length 8 using the expression: f'{b:08b}'\n",
    "\n",
    "## b → the number (e.g., 65).\n",
    "\n",
    "## b format code → means \"binary\".\n",
    "\n",
    "## 08 → pad with zeros so the result is always 8 characters long.\n",
    "\n",
    "## Example: 65 → \"01000001\".\n",
    "\n",
    "## ''.join(...) concatenates all these 8-bit binary strings into one long string."
   ]
  },
  {
   "cell_type": "code",
   "execution_count": 11,
   "metadata": {},
   "outputs": [
    {
     "name": "stdout",
     "output_type": "stream",
     "text": [
      "Message: b'Nature is for the satisfied or hollow/And what does it add up to in this land?/A patch of wood, some ripples in the sand./A modest hill where modest villas follow./ Give me the city streets, the urban grey,/Quays and canals that keep the water tamed,/The clouds that never look finer than when, framed/By attic windows, they go their windswept way./The least expectant have most to marvel at./Life keeps its wonders under lock and key/Until it springs them on us, rich, complete./One dreary morning all this dawned on me,/When, soaking wet in drizzly Dapper Street,/I suddenly felt happy, just like that.'\n",
      "SHA-256 Hash (hex): e79219ac256ede772366a2d3df63ede1ed0143312a8b0a7d8d3b79dd735abefa\n",
      "SHA-256 Hash (bits): 1110011110010010000110011010110000100101011011101101111001110111001000110110011010100010110100111101111101100011111011011110000111101101000000010100001100110001001010101000101100001010011111011000110100111011011110011101110101110011010110101011111011111010\n"
     ]
    }
   ],
   "source": [
    "# === Step 1: Hash the message explicitly ===\n",
    "digest = hashes.Hash(hashes.SHA256(), backend=default_backend())\n",
    "digest.update(message)\n",
    "hash_bytes = digest.finalize()\n",
    "\n",
    "print(\"Message:\", message)\n",
    "print(\"SHA-256 Hash (hex):\", hash_bytes.hex())\n",
    "print(\"SHA-256 Hash (bits):\", bytes_to_bitstring(hash_bytes))"
   ]
  },
  {
   "cell_type": "code",
   "execution_count": 12,
   "metadata": {},
   "outputs": [],
   "source": [
    "# --- Sign the message ---\n",
    "signature = private_key.sign(\n",
    "    message,\n",
    "    padding.PSS(\n",
    "        mgf=padding.MGF1(hashes.SHA256()),\n",
    "        salt_length=padding.PSS.MAX_LENGTH\n",
    "    ),\n",
    "    hashes.SHA256()\n",
    ")"
   ]
  },
  {
   "cell_type": "markdown",
   "metadata": {},
   "source": [
    "private_key.sign(...) → creates a digital signature.\n",
    "\n",
    "PSS (Probabilistic Signature Scheme) → secure padding scheme for RSA signatures.\n",
    "\n",
    "MGF1 (Mask Generation Function) with SHA-256 is used inside PSS.\n",
    "\n",
    "salt_length=PSS.MAX_LENGTH → adds randomness to prevent forgery attacks.\n",
    "\n",
    "hashes.SHA256() → the message is hashed with SHA-256 before signing (signing the hash, not the raw message).\n",
    "\n",
    "👉 The result (signature) is a large byte string (usually same size as RSA modulus, here 256 bytes)."
   ]
  },
  {
   "cell_type": "code",
   "execution_count": 13,
   "metadata": {},
   "outputs": [
    {
     "name": "stdout",
     "output_type": "stream",
     "text": [
      "✅ Original: Signature is valid.\n"
     ]
    }
   ],
   "source": [
    "# --- Function to verify and report ---\n",
    "def verify_signature(msg, sig, label=\"Original\"):\n",
    "    try:\n",
    "        public_key.verify(\n",
    "            sig,\n",
    "            msg,\n",
    "            padding.PSS(\n",
    "                mgf=padding.MGF1(hashes.SHA256()),\n",
    "                salt_length=padding.PSS.MAX_LENGTH\n",
    "            ),\n",
    "            hashes.SHA256()\n",
    "        )\n",
    "        print(f\"✅ {label}: Signature is valid.\")\n",
    "    except InvalidSignature:\n",
    "        print(f\"❌ {label}: Signature is invalid!\")\n",
    "\n",
    "# --- 1. Original (valid) ---\n",
    "verify_signature(message, signature, \"Original\")"
   ]
  },
  {
   "cell_type": "markdown",
   "metadata": {},
   "source": [
    "public_key.verify(...) checks that:\n",
    "\n",
    "The sig was produced with the corresponding private key.\n",
    "\n",
    "The msg has not been altered.\n",
    "\n",
    "The padding and hash match what was used at signing.\n",
    "\n",
    "If verification fails, it raises InvalidSignature."
   ]
  },
  {
   "cell_type": "code",
   "execution_count": 15,
   "metadata": {},
   "outputs": [
    {
     "name": "stdout",
     "output_type": "stream",
     "text": [
      "❌ Tampered Message: Signature is invalid!\n",
      "❌ Tampered Signature: Signature is invalid!\n"
     ]
    }
   ],
   "source": [
    "# --- 2. Tampered message ---\n",
    "tampered_message = b\"Nature is for the UNsatisfied or hollow/And what does it add up to in this land?/A patch of wood, some ripples in the sand./A modest hill where modest villas follow./ Give me the city streets, the urban grey,/Quays and canals that keep the water tamed,/The clouds that never look finer than when, framed/By attic windows, they go their windswept way./The least expectant have most to marvel at./Life keeps its wonders under lock and key/Until it springs them on us, rich, complete./One dreary morning all this dawned on me,/When, soaking wet in drizzly Dapper Street,/I suddenly felt happy, just like that.\"\n",
    "verify_signature(tampered_message, signature, \"Tampered Message\")\n",
    "\n",
    "# --- 3. Tampered signature ---\n",
    "tampered_signature = signature[:-1] + b'\\x00'  # corrupt last byte\n",
    "verify_signature(message, tampered_signature, \"Tampered Signature\")"
   ]
  },
  {
   "cell_type": "code",
   "execution_count": null,
   "metadata": {},
   "outputs": [],
   "source": []
  },
  {
   "cell_type": "code",
   "execution_count": null,
   "metadata": {},
   "outputs": [],
   "source": []
  }
 ],
 "metadata": {
  "kernelspec": {
   "display_name": "Python 3",
   "language": "python",
   "name": "python3"
  },
  "language_info": {
   "codemirror_mode": {
    "name": "ipython",
    "version": 3
   },
   "file_extension": ".py",
   "mimetype": "text/x-python",
   "name": "python",
   "nbconvert_exporter": "python",
   "pygments_lexer": "ipython3",
   "version": "3.7.6"
  }
 },
 "nbformat": 4,
 "nbformat_minor": 4
}
