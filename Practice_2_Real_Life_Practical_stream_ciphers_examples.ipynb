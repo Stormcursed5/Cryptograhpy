{
 "cells": [
  {
   "cell_type": "markdown",
   "metadata": {},
   "source": [
    "## 🧪 ChaCha20 – Using `cryptography` (IETF standard)"
   ]
  },
  {
   "cell_type": "code",
   "execution_count": 2,
   "metadata": {},
   "outputs": [
    {
     "name": "stdout",
     "output_type": "stream",
     "text": [
      "Ciphertext: 705ef5c368bf0166b834495adbb5b96aacad9835b57d6d8f6d9ad1affd11c3bbaa5c\n",
      "Recovered: b'Hello from ChaCha20 stream cipher!'\n",
      "Plaintext  (bits): 01001000011001010110110001101100011011110010000001100110011100100110111101101101001000000100001101101000011000010100001101101000011000010011001000110000001000000111001101110100011100100110010101100001011011010010000001100011011010010111000001101000011001010111001000100001\n",
      "Ciphertext (bits): 01110000010111101111010111000011011010001011111100000001011001101011100000110100010010010101101011011011101101011011100101101010101011001010110110011000001101011011010101111101011011011000111101101101100110101101000110101111111111010001000111000011101110111010101001011100\n",
      "Keystream  (bits): 00111000001110111001100110101111000001111001111101100111000101001101011101011001011010010001100110110011110101001111101000000010110011011001111110101000000101011100011000001001000111111110101000001100111101111111000111001100100101000110000110101011110111101101100001111101\n",
      "Recovered  (bits): 01001000011001010110110001101100011011110010000001100110011100100110111101101101001000000100001101101000011000010100001101101000011000010011001000110000001000000111001101110100011100100110010101100001011011010010000001100011011010010111000001101000011001010111001000100001\n"
     ]
    }
   ],
   "source": [
    "from cryptography.hazmat.primitives.ciphers import Cipher, algorithms\n",
    "from cryptography.hazmat.backends import default_backend\n",
    "import os\n",
    "\n",
    "# Key and nonce (fixed nonce length)\n",
    "key = os.urandom(32)             # 256-bit key\n",
    "nonce = os.urandom(16)           # 128-bit nonce (required by this implementation)\n",
    "plaintext = b\"Hello from ChaCha20 stream cipher!\"\n",
    "\n",
    "# Encrypt\n",
    "algorithm = algorithms.ChaCha20(key, nonce)\n",
    "cipher = Cipher(algorithm, mode=None, backend=default_backend())\n",
    "encryptor = cipher.encryptor()\n",
    "ciphertext = encryptor.update(plaintext)\n",
    "\n",
    "# Decrypt\n",
    "decryptor = cipher.decryptor()\n",
    "recovered = decryptor.update(ciphertext)\n",
    "\n",
    "print(\"Ciphertext:\", ciphertext.hex())\n",
    "print(\"Recovered:\", recovered)\n",
    "\n",
    "\n",
    "# Helper: convert bytes to continuous bit string\n",
    "def to_bits(data: bytes) -> str:\n",
    "    return ''.join(f'{byte:08b}' for byte in data)\n",
    "\n",
    "# Recover the keystream: ciphertext ⊕ plaintext\n",
    "keystream = bytes(c ^ p for c, p in zip(ciphertext, plaintext))\n",
    "\n",
    "print(\"Plaintext  (bits):\", to_bits(plaintext))\n",
    "print(\"Ciphertext (bits):\", to_bits(ciphertext))\n",
    "print(\"Keystream  (bits):\", to_bits(keystream))\n",
    "print(\"Recovered  (bits):\", to_bits(recovered))"
   ]
  },
  {
   "cell_type": "markdown",
   "metadata": {},
   "source": [
    "## 🧪 Salsa20 – Using `pycryptodome`"
   ]
  },
  {
   "cell_type": "code",
   "execution_count": 3,
   "metadata": {},
   "outputs": [
    {
     "name": "stdout",
     "output_type": "stream",
     "text": [
      "Ciphertext: b8f77db78717d3020f312689337dbf30339bb4e97b49b77e0c66ae69c933f13e07\n",
      "Recovered: b'Hello from Salsa20 stream cipher!'\n",
      "Plaintext  (bits): 010010000110010101101100011011000110111100100000011001100111001001101111011011010010000001010011011000010110110001110011011000010011001000110000001000000111001101110100011100100110010101100001011011010010000001100011011010010111000001101000011001010111001000100001\n",
      "Ciphertext (bits): 101110001111011101111101101101111000011100010111110100110000001000001111001100010010011010001001001100110111110110111111001100000011001110011011101101001110100101111011010010011011011101111110000011000110011010101110011010011100100100110011111100010011111000000111\n",
      "Keystream  (bits): 111100001001001000010001110110111110100000110111101101010111000001100000010111000000011011011010010100100001000111001100010100010000000110101011100101001001101000001111001110111101001000011111011000010100011011001101000000001011100101011011100101000100110000100110\n",
      "Recovered  (bits): 010010000110010101101100011011000110111100100000011001100111001001101111011011010010000001010011011000010110110001110011011000010011001000110000001000000111001101110100011100100110010101100001011011010010000001100011011010010111000001101000011001010111001000100001\n"
     ]
    }
   ],
   "source": [
    "from Crypto.Cipher import Salsa20\n",
    "import os\n",
    "\n",
    "# Key and nonce\n",
    "key = os.urandom(32)              # 256-bit key\n",
    "nonce = os.urandom(8)             # 64-bit nonce\n",
    "plaintext = b\"Hello from Salsa20 stream cipher!\"\n",
    "\n",
    "# Encrypt\n",
    "cipher = Salsa20.new(key=key, nonce=nonce)\n",
    "ciphertext = cipher.encrypt(plaintext)\n",
    "\n",
    "# Decrypt\n",
    "cipher_dec = Salsa20.new(key=key, nonce=nonce)\n",
    "recovered = cipher_dec.decrypt(ciphertext)\n",
    "\n",
    "print(\"Ciphertext:\", ciphertext.hex())\n",
    "print(\"Recovered:\", recovered)\n",
    "\n",
    "# Recover the keystream: ciphertext ⊕ plaintext\n",
    "keystream = bytes(c ^ p for c, p in zip(ciphertext, plaintext))\n",
    "\n",
    "print(\"Plaintext  (bits):\", to_bits(plaintext))\n",
    "print(\"Ciphertext (bits):\", to_bits(ciphertext))\n",
    "print(\"Keystream  (bits):\", to_bits(keystream))\n",
    "print(\"Recovered  (bits):\", to_bits(recovered))"
   ]
  },
  {
   "cell_type": "markdown",
   "metadata": {},
   "source": [
    "## 🧪 Trivium – Toy Python implementation (educational use only)"
   ]
  },
  {
   "cell_type": "code",
   "execution_count": 4,
   "metadata": {},
   "outputs": [
    {
     "name": "stdout",
     "output_type": "stream",
     "text": [
      "Ciphertext: 03ec5f853e5fded4abedb8ec9b10d5c217e640eae4df167a453367d64eea\n",
      "Recovered: b'Trivium stream cipher example!'\n",
      "Plaintext  (bits): 010101000111001001101001011101100110100101110101011011010010000001110011011101000111001001100101011000010110110100100000011000110110100101110000011010000110010101110010001000000110010101111000011000010110110101110000011011000110010100100001\n",
      "Ciphertext (bits): 000000111110110001011111100001010011111001011111110111101101010010101011111011011011100011101100100110110001000011010101110000100001011111100110010000001110101011100100110111110001011001111010010001010011001101100111110101100100111011101010\n",
      "Keystream  (bits): 010101111001111000110110111100110101011100101010101100111111010011011000100110011100101010001001111110100111110111110101101000010111111010010110001010001000111110010110111111110111001100000010001001000101111000010111101110100010101111001011\n",
      "Recovered  (bits): 010101000111001001101001011101100110100101110101011011010010000001110011011101000111001001100101011000010110110100100000011000110110100101110000011010000110010101110010001000000110010101111000011000010110110101110000011011000110010100100001\n"
     ]
    }
   ],
   "source": [
    "def trivium_init(key, iv):\n",
    "    # Trivium uses 80-bit key and IV\n",
    "    assert len(key) == 10 and len(iv) == 10\n",
    "    key_bits = sum([[int(b) >> i & 1 for i in range(8)] for b in key], [])\n",
    "    iv_bits  = sum([[int(b) >> i & 1 for i in range(8)] for b in iv], [])\n",
    "\n",
    "    state = [0] * 288\n",
    "    state[:80] = key_bits\n",
    "    state[93:173] = iv_bits\n",
    "    state[285:] = [1, 1, 1]\n",
    "\n",
    "    for _ in range(4 * 288):  # Warm-up phase\n",
    "        t1 = state[65] ^ (state[90] & state[91]) ^ state[92] ^ state[170]\n",
    "        t2 = state[161] ^ (state[174] & state[175]) ^ state[176] ^ state[263]\n",
    "        t3 = state[242] ^ (state[285] & state[286]) ^ state[287] ^ state[68]\n",
    "        state = [t3] + state[:92] + [t1] + state[93:176] + [t2] + state[177:287]\n",
    "    return state\n",
    "\n",
    "def trivium_keystream(state, length):\n",
    "    stream = []\n",
    "    for _ in range(length * 8):\n",
    "        t1 = state[65] ^ state[92]\n",
    "        t2 = state[161] ^ state[176]\n",
    "        t3 = state[242] ^ state[287]\n",
    "        z = t1 ^ t2 ^ t3\n",
    "        stream.append(z)\n",
    "        t1 = t1 ^ (state[90] & state[91]) ^ state[170]\n",
    "        t2 = t2 ^ (state[174] & state[175]) ^ state[263]\n",
    "        t3 = t3 ^ (state[285] & state[286]) ^ state[68]\n",
    "        state = [t3] + state[:92] + [t1] + state[93:176] + [t2] + state[177:287]\n",
    "    return stream\n",
    "\n",
    "def xor_bytes(data, stream_bits):\n",
    "    return bytes(b ^ sum([bit << i for i, bit in enumerate(stream_bits[n*8:n*8+8])])\n",
    "                 for n, b in enumerate(data))\n",
    "\n",
    "# Key, IV (10 bytes each = 80 bits)\n",
    "key = b'1234567890'\n",
    "iv  = b'abcdefghij'\n",
    "plaintext = b\"Trivium stream cipher example!\"\n",
    "\n",
    "# Initialize and encrypt\n",
    "state = trivium_init(key, iv)\n",
    "stream_bits = trivium_keystream(state.copy(), len(plaintext))\n",
    "ciphertext = xor_bytes(plaintext, stream_bits)\n",
    "\n",
    "# Decrypt\n",
    "state = trivium_init(key, iv)\n",
    "stream_bits = trivium_keystream(state.copy(), len(ciphertext))\n",
    "recovered = xor_bytes(ciphertext, stream_bits)\n",
    "\n",
    "print(\"Ciphertext:\", ciphertext.hex())\n",
    "print(\"Recovered:\", recovered)\n",
    "\n",
    "# Recover the keystream: ciphertext ⊕ plaintext\n",
    "keystream = bytes(c ^ p for c, p in zip(ciphertext, plaintext))\n",
    "\n",
    "print(\"Plaintext  (bits):\", to_bits(plaintext))\n",
    "print(\"Ciphertext (bits):\", to_bits(ciphertext))\n",
    "print(\"Keystream  (bits):\", to_bits(keystream))\n",
    "print(\"Recovered  (bits):\", to_bits(recovered))"
   ]
  },
  {
   "cell_type": "code",
   "execution_count": null,
   "metadata": {},
   "outputs": [],
   "source": []
  }
 ],
 "metadata": {
  "kernelspec": {
   "display_name": "Python 3",
   "language": "python",
   "name": "python3"
  },
  "language_info": {
   "codemirror_mode": {
    "name": "ipython",
    "version": 3
   },
   "file_extension": ".py",
   "mimetype": "text/x-python",
   "name": "python",
   "nbconvert_exporter": "python",
   "pygments_lexer": "ipython3",
   "version": "3.7.6"
  }
 },
 "nbformat": 4,
 "nbformat_minor": 5
}
