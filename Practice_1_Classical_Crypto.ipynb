{
 "cells": [
  {
   "cell_type": "markdown",
   "metadata": {},
   "source": [
    "# Practical Activity 1: Classical Cryptography and Perfect Encryption\n",
    "\n",
    "## Objectives\n",
    "- Implement several **classical ciphers** using Python.  \n",
    "- Analyse their **security properties**.  \n",
    "- Understand the concept of **perfect secrecy**.  \n",
    "- Solve related **problems and questions**.  \n",
    "\n",
    "## 1. Introduction\n",
    "\n",
    "Classical cryptography refers to the historical methods of encrypting messages before the rise of modern algorithms.  \n",
    "Examples include the **Caesar cipher**, the **Affine cipher**, and the **Vigenère cipher**.  \n",
    "\n",
    "While these systems were groundbreaking for their time, they are **cryptographically weak** by modern standards.  \n",
    "\n",
    "The **One-Time Pad (OTP)**, however, is a special cipher that provides **perfect secrecy** (in Shannon’s sense) but has practical limitations due to key distribution.  \n"
   ]
  },
  {
   "cell_type": "markdown",
   "metadata": {},
   "source": [
    "## 2. Classical Ciphers Implementation"
   ]
  },
  {
   "cell_type": "markdown",
   "metadata": {},
   "source": [
    "For our code, we will need to use a little bit of modular arithmetic. Concretely, we will need to compute the inverse of a number in $\\mathbb{Z}_n$, which is done as follows:"
   ]
  },
  {
   "cell_type": "code",
   "execution_count": 1,
   "metadata": {},
   "outputs": [],
   "source": [
    "def modinv(a, m):\n",
    "    \"\"\"\n",
    "    Compute the modular inverse of a modulo m.\n",
    "    Returns x such that (a * x) % m == 1, or None if no inverse exists.\n",
    "    \"\"\"\n",
    "    # Extended Euclidean Algorithm\n",
    "    def egcd(x, y):\n",
    "        if y == 0:\n",
    "            return x, 1, 0\n",
    "        g, u, v = egcd(y, x % y)\n",
    "        return g, v, u - (x // y) * v\n",
    "\n",
    "    g, x, _ = egcd(a, m)\n",
    "    if g != 1:\n",
    "        return None  # inverse does not exist\n",
    "    else:\n",
    "        return x % m\n"
   ]
  },
  {
   "cell_type": "markdown",
   "metadata": {},
   "source": [
    "<strong> Explanation: </strong> \n",
    "* Given $a,b$ integers, the <strong>Extended Euclidean Algorithm (EEA)</strong> computes n,m and g such that $an+mb=g$ where $g$ is the greatest common divisor of $a,b$.   \n",
    "* Given $a,m$ integers, $a=1\\mod m$ means that $a=mx+1$. Hence $ab=1\\mod m$ iff $ab=my+1$ iff the greatest common divisor of $a,m$ is $1$, and then the EEA computes $b$ (the inverse of $a$ modulo $m$). \n",
    "* We need to compute modular inverses for decryption if the affine cypher."
   ]
  },
  {
   "cell_type": "code",
   "execution_count": 2,
   "metadata": {},
   "outputs": [
    {
     "data": {
      "text/plain": [
       "('Cryptography IS FUN', 'FUBSWRJUDSKB LV IXQ', 'CRYPTOGRAPHY IS FUN')"
      ]
     },
     "execution_count": 2,
     "metadata": {},
     "output_type": "execute_result"
    }
   ],
   "source": [
    "# 2.1 Caesar Cipher\n",
    "def caesar_encrypt(text, key):\n",
    "    result = \"\"\n",
    "    for char in text.upper():\n",
    "        if char.isalpha():\n",
    "            result += chr(((ord(char) - 65 + key) % 26) + 65)\n",
    "        else:\n",
    "            result += char\n",
    "    return result\n",
    "\n",
    "def caesar_decrypt(cipher, key):\n",
    "    return caesar_encrypt(cipher, -key)\n",
    "\n",
    "# Example\n",
    "plaintext = \"Cryptography IS FUN\"\n",
    "cipher = caesar_encrypt(plaintext, 3)\n",
    "decrypted = caesar_decrypt(cipher, 3)\n",
    "plaintext, cipher, decrypted"
   ]
  },
  {
   "cell_type": "code",
   "execution_count": 3,
   "metadata": {},
   "outputs": [
    {
     "data": {
      "text/plain": [
       "('RCLLA OAPLX', 'HELLO WORLD')"
      ]
     },
     "execution_count": 3,
     "metadata": {},
     "output_type": "execute_result"
    }
   ],
   "source": [
    "# 2.2 Affine Cipher\n",
    "def affine_encrypt(text, a, b):\n",
    "    result = \"\"\n",
    "    for char in text.upper():\n",
    "        if char.isalpha():\n",
    "            result += chr(((a * (ord(char) - 65) + b) % 26) + 65)\n",
    "        else:\n",
    "            result += char\n",
    "    return result\n",
    "\n",
    "def affine_decrypt(cipher, a, b):\n",
    "    result = \"\"\n",
    "    inv_a = modinv(a, 26)\n",
    "    for char in cipher:\n",
    "        if char.isalpha():\n",
    "            result += chr(((inv_a * ((ord(char) - 65) - b)) % 26) + 65)\n",
    "        else:\n",
    "            result += char\n",
    "    return result\n",
    "\n",
    "# Example\n",
    "cipher = affine_encrypt(\"HELLO WORLD\", 5, 8)\n",
    "decrypted = affine_decrypt(cipher, 5, 8)\n",
    "cipher, decrypted"
   ]
  },
  {
   "cell_type": "code",
   "execution_count": 4,
   "metadata": {},
   "outputs": [
    {
     "data": {
      "text/plain": [
       "('LXFOPV EF RNHR', 'ATTACK AT DAWN')"
      ]
     },
     "execution_count": 4,
     "metadata": {},
     "output_type": "execute_result"
    }
   ],
   "source": [
    "# 2.3 Vigenère Cipher\n",
    "def vigenere_encrypt(text, key):\n",
    "    result = \"\"\n",
    "    key = key.upper()\n",
    "    key_index = 0\n",
    "    for char in text.upper():\n",
    "        if char.isalpha():\n",
    "            shift = ord(key[key_index % len(key)]) - 65\n",
    "            result += chr(((ord(char) - 65 + shift) % 26) + 65)\n",
    "            key_index += 1\n",
    "        else:\n",
    "            result += char\n",
    "    return result\n",
    "\n",
    "def vigenere_decrypt(cipher, key):\n",
    "    result = \"\"\n",
    "    key = key.upper()\n",
    "    key_index = 0\n",
    "    for char in cipher.upper():\n",
    "        if char.isalpha():\n",
    "            shift = ord(key[key_index % len(key)]) - 65\n",
    "            result += chr(((ord(char) - 65 - shift) % 26) + 65)\n",
    "            key_index += 1\n",
    "        else:\n",
    "            result += char\n",
    "    return result\n",
    "\n",
    "# Example\n",
    "cipher = vigenere_encrypt(\"ATTACK AT DAWN\", \"LEMON\")\n",
    "decrypted = vigenere_decrypt(cipher, \"LEMON\")\n",
    "cipher, decrypted"
   ]
  },
  {
   "cell_type": "code",
   "execution_count": 5,
   "metadata": {},
   "outputs": [
    {
     "data": {
      "text/plain": [
       "('HELLO', b'\\x85\\x0b\\xbd\\x90_', 'HELLO')"
      ]
     },
     "execution_count": 5,
     "metadata": {},
     "output_type": "execute_result"
    }
   ],
   "source": [
    "# 2.4 One-Time Pad (OTP) with XOR\n",
    "import os\n",
    "\n",
    "# Imports Python’s os module, which includes os.urandom() to generate cryptographically secure random bytes.\n",
    "# The os module in Python is part of the standard library. \n",
    "# It provides functions for interacting with the operating system (OS).\n",
    "# Think of it as a bridge between Python code and the system resources \n",
    "# (like files, directories, environment variables, random number generation, etc.)\n",
    "\n",
    "\n",
    "def otp_encrypt(text, key):\n",
    "    return bytes([ord(c) ^ k for c, k in zip(text, key)])\n",
    "\n",
    "\n",
    "# zip(text, key) pairs each character of the plaintext with one byte of the key.\n",
    "\n",
    "# ord(c) converts each character c into its ASCII code.\n",
    "\n",
    "# ord(c) ^ k applies XOR between the plaintext byte and key byte.\n",
    "\n",
    "# The result is collected into a list and wrapped in bytes([...]) so the ciphertext is stored as raw bytes.\n",
    "\n",
    "\n",
    "\n",
    "def otp_decrypt(cipher, key):\n",
    "    return ''.join([chr(c ^ k) for c, k in zip(cipher, key)])\n",
    "\n",
    "# Note that encryption and decryption are the same in this case. \n",
    "\n",
    "# Example\n",
    "plaintext = \"HELLO\"\n",
    "key = os.urandom(len(plaintext))  # truly random key\n",
    "# Indeed, os.urandom(n) generates n cryptographically secure random bytes.\n",
    "cipher = otp_encrypt(plaintext, key)\n",
    "decrypted = otp_decrypt(cipher, key)\n",
    "plaintext, cipher, decrypted"
   ]
  },
  {
   "cell_type": "markdown",
   "metadata": {},
   "source": [
    "Let us now put everything in bits, since OTP and XOR run with bits...:"
   ]
  },
  {
   "cell_type": "code",
   "execution_count": 6,
   "metadata": {},
   "outputs": [
    {
     "name": "stdout",
     "output_type": "stream",
     "text": [
      "Plaintext (ASCII): HELLO\n",
      "Plaintext (bits):  01001000 01000101 01001100 01001100 01001111\n",
      "\n",
      "Key (bits):        01101101 00110011 11111111 01100101 00100011\n",
      "\n",
      "Cipher (bits):     00100101 01110110 10110011 00101001 01101100\n",
      "Cipher (raw):      b'%v\\xb3)l'\n",
      "\n",
      "Decrypted (bits):  01001000 01000101 01001100 01001100 01001111\n",
      "Decrypted (text): HELLO\n"
     ]
    }
   ],
   "source": [
    "def to_bits(data):\n",
    "    \"\"\"Convert a bytes or string object into a string of bits.\"\"\"\n",
    "    if isinstance(data, str):\n",
    "        data = data.encode(\"utf-8\")  # convert string to bytes\n",
    "    return ''.join(f\"{byte:08b}\" for byte in data)\n",
    "\n",
    "def otp_encrypt(text, key):\n",
    "    \"\"\"Encrypt plaintext (string) with key (bytes).\"\"\"\n",
    "    return bytes([ord(c) ^ k for c, k in zip(text, key)])\n",
    "\n",
    "def otp_decrypt(cipher, key):\n",
    "    \"\"\"Decrypt ciphertext (bytes) with key (bytes).\"\"\"\n",
    "    return ''.join([chr(c ^ k) for c, k in zip(cipher, key)])\n",
    "\n",
    "\n",
    "# Example\n",
    "plaintext = \"HELLO\"\n",
    "key = os.urandom(len(plaintext))  # random key (bytes)\n",
    "cipher = otp_encrypt(plaintext, key)\n",
    "decrypted = otp_decrypt(cipher, key)\n",
    "\n",
    "print(\"Plaintext (ASCII):\", plaintext)\n",
    "print(\"Plaintext (bits): \", ' '.join(f\"{ord(c):08b}\" for c in plaintext))\n",
    "\n",
    "print(\"\\nKey (bits):       \", ' '.join(f\"{k:08b}\" for k in key))\n",
    "\n",
    "print(\"\\nCipher (bits):    \", ' '.join(f\"{c:08b}\" for c in cipher))\n",
    "print(\"Cipher (raw):     \", cipher)\n",
    "\n",
    "print(\"\\nDecrypted (bits): \", ' '.join(f\"{ord(c):08b}\" for c in decrypted))\n",
    "print(\"Decrypted (text):\", decrypted)\n"
   ]
  },
  {
   "cell_type": "markdown",
   "metadata": {},
   "source": [
    "## 3. Cryptanalysis Exercises"
   ]
  },
  {
   "cell_type": "code",
   "execution_count": 7,
   "metadata": {},
   "outputs": [
    {
     "name": "stdout",
     "output_type": "stream",
     "text": [
      "Cipher: TLLA TL HA TPKUPNOA\n",
      "\n",
      "Brute force results:\n",
      "Key 0: TLLA TL HA TPKUPNOA\n",
      "Key 1: SKKZ SK GZ SOJTOMNZ\n",
      "Key 2: RJJY RJ FY RNISNLMY\n",
      "Key 3: QIIX QI EX QMHRMKLX\n",
      "Key 4: PHHW PH DW PLGQLJKW\n",
      "Key 5: OGGV OG CV OKFPKIJV\n",
      "Key 6: NFFU NF BU NJEOJHIU\n",
      "Key 7: MEET ME AT MIDNIGHT\n",
      "Key 8: LDDS LD ZS LHCMHFGS\n",
      "Key 9: KCCR KC YR KGBLGEFR\n",
      "Key 10: JBBQ JB XQ JFAKFDEQ\n",
      "Key 11: IAAP IA WP IEZJECDP\n",
      "Key 12: HZZO HZ VO HDYIDBCO\n",
      "Key 13: GYYN GY UN GCXHCABN\n",
      "Key 14: FXXM FX TM FBWGBZAM\n",
      "Key 15: EWWL EW SL EAVFAYZL\n",
      "Key 16: DVVK DV RK DZUEZXYK\n",
      "Key 17: CUUJ CU QJ CYTDYWXJ\n",
      "Key 18: BTTI BT PI BXSCXVWI\n",
      "Key 19: ASSH AS OH AWRBWUVH\n",
      "Key 20: ZRRG ZR NG ZVQAVTUG\n",
      "Key 21: YQQF YQ MF YUPZUSTF\n",
      "Key 22: XPPE XP LE XTOYTRSE\n",
      "Key 23: WOOD WO KD WSNXSQRD\n",
      "Key 24: VNNC VN JC VRMWRPQC\n",
      "Key 25: UMMB UM IB UQLVQOPB\n"
     ]
    }
   ],
   "source": [
    "# 3.1 Brute force attack on Caesar cipher\n",
    "cipher = caesar_encrypt(\"MEET ME AT MIDNIGHT\", 7)\n",
    "print(\"Cipher:\", cipher)\n",
    "\n",
    "print(\"\\nBrute force results:\")\n",
    "for k in range(26):\n",
    "    print(f\"Key {k}: {caesar_decrypt(cipher, k)}\")"
   ]
  },
  {
   "cell_type": "code",
   "execution_count": 8,
   "metadata": {},
   "outputs": [
    {
     "data": {
      "text/plain": [
       "{'Y': 0.15,\n",
       " 'M': 0.05,\n",
       " 'N': 0.075,\n",
       " 'X': 0.125,\n",
       " 'F': 0.1,\n",
       " 'J': 0.15,\n",
       " 'H': 0.025,\n",
       " 'W': 0.075,\n",
       " 'R': 0.025,\n",
       " 'L': 0.025,\n",
       " 'B': 0.05,\n",
       " 'Q': 0.05,\n",
       " 'D': 0.025,\n",
       " 'T': 0.025,\n",
       " 'G': 0.025,\n",
       " 'P': 0.025}"
      ]
     },
     "execution_count": 8,
     "metadata": {},
     "output_type": "execute_result"
    }
   ],
   "source": [
    "# 3.2 Frequency analysis helper\n",
    "from collections import Counter\n",
    "\n",
    "def frequency_analysis(text):\n",
    "    text = ''.join([c for c in text.upper() if c.isalpha()])\n",
    "    counts = Counter(text)\n",
    "    total = sum(counts.values())\n",
    "    return {c: round(counts[c] / total, 3) for c in counts}\n",
    "\n",
    "cipher = caesar_encrypt(\"THIS IS A SECRET MESSAGE THAT WE WILL TRY TO BREAK\", 5)\n",
    "frequency_analysis(cipher)"
   ]
  },
  {
   "cell_type": "markdown",
   "metadata": {},
   "source": [
    "<strong> Index of Coincidence (IC) in Vigenére Cryptanalysis</strong>\n",
    "\n",
    "The Index of Coincidence (IC) is a statistical measure that estimates how likely it is that two randomly chosen letters from a text are the same.\n",
    "\n",
    "Formally, for a text of length $N$, with letter counts \n",
    "$f_A, f_B, \\dots, f_Z$, the IC is defined as:\n",
    "$$ IC = \\frac{\\sum_{i=A}^{Z} f_i (f_i - 1)}{N(N-1)}.$$\n",
    "\n",
    "Here:\n",
    "* $f_i$ = frequency of letter $i$,\n",
    "* $N$ = total number of letters in the text.\n",
    "\n",
    "\n",
    "Intuition: \n",
    "* If the text is completely random, all letters appear with probability $\\tfrac{1}{26}$.\n",
    "    $$\\text{Expected } IC \\approx \\frac{1}{26} \\approx 0.038.$$\n",
    "* If the text is English plaintext, letters follow natural frequencies (E, T, A are more common).\n",
    "   $$\\text{Expected } IC \\approx 0.066.$$\n",
    "\n",
    "\n",
    "So:\n",
    "$$\\text{Random text} \\;\\;\\Rightarrow\\;\\; IC \\approx 0.038$$\n",
    "\n",
    "$$\\text{English text} \\;\\;\\Rightarrow\\;\\; IC \\approx 0.066$$\n",
    "\n",
    "* Application to the Vigenére Cipher: \n",
    "\n",
    "The Vigenére cipher shifts the plaintext with a periodic key of length $k$.\n",
    "\n",
    "* If we guess a key length $k$ and split the ciphertext into $k$ subsequences (taking every $k$-th letter), then:\n",
    "    \n",
    "*  If $k$ is correct, each subsequence is essentially a Caesar cipher of English text, so its IC is closer to $0.066$.\n",
    "*  If $k$ is wrong, subsequences mix multiple Caesar shifts, so they look more random and the IC is closer to $0.038$.\n",
    "\n",
    "Workflow:\n",
    "*  For each candidate key length $k$:\n",
    "\n",
    "        * Split ciphertext into subsequences.\n",
    "        * Compute IC for each subsequence.\n",
    "        * Take the average IC.\n",
    "Compare results:\n",
    "* Peaks closer to $0.066$ suggest the likely key length.\n",
    "* Flat values near $0.038$ suggest incorrect lengths.\n",
    "   \n",
    "   \n",
    "   Key Insight: \n",
    "The Index of Coincidence works because it distinguishes between:\n",
    "* Natural language distribution: biased toward some letters, higher IC.\n",
    "* Uniform random distribution: all letters equal, lower IC.\n",
    "\n",
    "\n",
    "Thus, IC is a statistical tool to guess the Vigenére key length.\n"
   ]
  },
  {
   "cell_type": "code",
   "execution_count": 9,
   "metadata": {},
   "outputs": [
    {
     "data": {
      "text/plain": [
       "0.05813953488372093"
      ]
     },
     "execution_count": 9,
     "metadata": {},
     "output_type": "execute_result"
    }
   ],
   "source": [
    "# 3.3 Index of Coincidence (IC) for Vigenère analysis\n",
    "def index_of_coincidence(text):\n",
    "    text = ''.join([c for c in text.upper() if c.isalpha()])\n",
    "    N = len(text)\n",
    "    freqs = Counter(text)\n",
    "    ic = sum([f*(f-1) for f in freqs.values()]) / (N*(N-1))\n",
    "    return ic\n",
    "\n",
    "sample = vigenere_encrypt(\"THIS IS A LONGER TEXT TO COMPUTE INDEX OF COINCIDENCE\", \"KEY\")\n",
    "index_of_coincidence(sample)"
   ]
  },
  {
   "cell_type": "markdown",
   "metadata": {},
   "source": [
    "Note that spaces do not affect to the computation above!:"
   ]
  },
  {
   "cell_type": "code",
   "execution_count": 15,
   "metadata": {},
   "outputs": [
    {
     "data": {
      "text/plain": [
       "0.05813953488372093"
      ]
     },
     "execution_count": 15,
     "metadata": {},
     "output_type": "execute_result"
    }
   ],
   "source": [
    "sample = vigenere_encrypt(\"THISISALONGERTEXTTOCOMPUTEINDEXOFCOINCIDENCE\", \"KEY\")\n",
    "index_of_coincidence(sample)"
   ]
  },
  {
   "cell_type": "markdown",
   "metadata": {},
   "source": [
    "## 4. Questions & Problems (Solved)\n",
    "\n",
    "1. **Show that Caesar cipher can be brute-forced easily**  \n",
    "   → Done in section 3.1, only 26 possibilities.  \n",
    "\n",
    "2. **Why is the Affine cipher vulnerable to frequency analysis?**  \n",
    "   → Because it’s a substitution cipher with a fixed mapping, so letter frequencies remain.  \n",
    "\n",
    "3. **Implement a function that guesses Vigenère key length using IC.**  \n",
    "\n",
    "4. **Challenge: Encrypt with Vigenère and break it using frequency analysis.**  \n",
    "   → Implemented with IC-based key length guess, then frequency analysis"
   ]
  },
  {
   "cell_type": "code",
   "execution_count": 10,
   "metadata": {},
   "outputs": [
    {
     "data": {
      "text/plain": [
       "{1: 0.049325823519371904,\n",
       " 2: 0.046896484927008805,\n",
       " 3: 0.0492217777199196,\n",
       " 4: 0.04599463741939607,\n",
       " 5: 0.043794430816552196,\n",
       " 6: 0.04345366421652006,\n",
       " 7: 0.048437675763556065,\n",
       " 8: 0.042696407304728144}"
      ]
     },
     "execution_count": 10,
     "metadata": {},
     "output_type": "execute_result"
    }
   ],
   "source": [
    "def guess_vigenere_key_length(cipher, max_len):\n",
    "    scores = {}\n",
    "    for key_len in range(1, max_len+1):\n",
    "        ic_values = []\n",
    "        for i in range(key_len):\n",
    "            subseq = cipher[i::key_len]\n",
    "            ic_values.append(index_of_coincidence(subseq))\n",
    "        scores[key_len] = sum(ic_values)/len(ic_values)\n",
    "    return scores\n",
    "\n",
    "#### cipher[i::key_len] is Python slicing with a stride.\n",
    "\n",
    "#### For i = 0, it takes positions 0, key_len, 2*key_len, …\n",
    "\n",
    "#### For i = 1, positions 1, key_len+1, … and so on.\n",
    "\n",
    "#### Each subseq corresponds to all letters encrypted by the same key character (same Caesar shift).\n",
    "\n",
    "#### Compute the IC of each subseq and store it.\n",
    "\n",
    "### Finally, the order:\n",
    "### scores[key_len] = sum(ic_values)/len(ic_values)\n",
    "### Combines all the subsequences' ICs into one average number for that key length.\n",
    "### The guessed key length is the one that attains a maximum. \n",
    "\n",
    "cipher = vigenere_encrypt(\"It was the best of times, it was the worst of times, it was the age of wisdom, it was the age of foolishness, it was the epoch of belief, it was the epoch of incredulity, it was the season of Light, it was the season of Darkness, it was the spring of hope, it was the winter of despair.\", \"LEMON\")\n",
    "guess_vigenere_key_length(cipher, 8)\n"
   ]
  },
  {
   "cell_type": "markdown",
   "metadata": {},
   "source": [
    "Note that we used the key LEMON so that k=5, but the guessed length was 1! This is because of the spaces.\n",
    "Let us try to do the computation deleting the spaces:"
   ]
  },
  {
   "cell_type": "code",
   "execution_count": 11,
   "metadata": {},
   "outputs": [
    {
     "data": {
      "text/plain": [
       "'TXIOFELQPRDXATGTQQGVEAMGGSIICEDXATGTQQGVEAMGGSIMURZJIWFOSYWGHEEHUPESSBQJACYTWTBRDWUHJLWFVRPTAQUZJNSYTIRWGHEEHUPIBCPSSRWANVQRHWMFMVEAMGGSIESNDSZCSWMSVGTXIOFELQGRLWABBQHMFXYIEGVEAMGGSIEDETRSCSSSBSVEAMGGSIIWAEIDCSOIEDNTV'"
      ]
     },
     "execution_count": 11,
     "metadata": {},
     "output_type": "execute_result"
    }
   ],
   "source": [
    "cipher = vigenere_encrypt(\"ITWASTHEBESTOFTIMESITWASTHEWORSTOFTIMESITWASTHEAGEOFWISDOMITWASTHEAGEOFFOOLISHNESSITWASTHEEPOCHOFBELIEFITWASTHEEPOCHOFINCREDULITYITWASTHESEASONOFLIGHTITWASTHESEASONOFDARKNESSITWASTHESPRINGOFHOPEITWASTHEWINTEROFDESPAIR\", \"LEMON\")\n",
    "cipher"
   ]
  },
  {
   "cell_type": "code",
   "execution_count": 12,
   "metadata": {},
   "outputs": [
    {
     "data": {
      "text/plain": [
       "{1: 0.049325823519371904,\n",
       " 2: 0.04870895932372396,\n",
       " 3: 0.05305807447424272,\n",
       " 4: 0.04723651610444063,\n",
       " 5: 0.08705325682069867,\n",
       " 6: 0.05256685256685256,\n",
       " 7: 0.04761904761904762,\n",
       " 8: 0.040649165649165646}"
      ]
     },
     "execution_count": 12,
     "metadata": {},
     "output_type": "execute_result"
    }
   ],
   "source": [
    "guess_vigenere_key_length(cipher, 8)"
   ]
  },
  {
   "cell_type": "markdown",
   "metadata": {},
   "source": [
    "Now the lenght was guessed : k=5. "
   ]
  },
  {
   "cell_type": "markdown",
   "metadata": {},
   "source": [
    "Once the key length $k$ is known, the standard approach to crack a Vigenère cipher is:\n",
    "\n",
    "* Split the ciphertext into $k$ groups, where each group corresponds to letters encrypted with the same Caesar shift.\n",
    "\n",
    "* For each group, guess the Caesar shift by comparing letter frequencies with English letter frequencies.\n",
    "\n",
    "* Collect all shifts → reconstruct the key.\n",
    "\n",
    "* Decrypt the ciphertext."
   ]
  },
  {
   "cell_type": "code",
   "execution_count": 14,
   "metadata": {},
   "outputs": [
    {
     "name": "stdout",
     "output_type": "stream",
     "text": [
      "Ciphertext:  TXIOFELQPRDXATGTQQGVEAMGGSIICEDXATGTQQGVEAMGGSIMURZJIWFOSYWGHEEHUPESSBQJACYTWTBRDWUHJLWFVRPTAQUZJNSYTIRWGHEEHUPIBCPSSRWANVQRHWMFMVEAMGGSIESNDSZCSWMSVGTXIOFELQGRLWABBQHMFXYIEGVEAMGGSIEDETRSCSSSBSVEAMGGSIIWAEIDCSOIEDNTV\n",
      "Guessed Key: LEMON\n",
      "Decrypted:   ITWASTHEBESTOFTIMESITWASTHEWORSTOFTIMESITWASTHEAGEOFWISDOMITWASTHEAGEOFFOOLISHNESSITWASTHEEPOCHOFBELIEFITWASTHEEPOCHOFINCREDULITYITWASTHESEASONOFLIGHTITWASTHESEASONOFDARKNESSITWASTHESPRINGOFHOPEITWASTHEWINTEROFDESPAIR\n"
     ]
    }
   ],
   "source": [
    "import string\n",
    "from collections import Counter\n",
    "\n",
    "# English letter frequencies (approximate, normalized)\n",
    "ENGLISH_FREQ = {\n",
    "    'A': 0.082, 'B': 0.015, 'C': 0.028, 'D': 0.043, 'E': 0.13,\n",
    "    'F': 0.022, 'G': 0.02, 'H': 0.061, 'I': 0.07, 'J': 0.0015,\n",
    "    'K': 0.0077, 'L': 0.04, 'M': 0.024, 'N': 0.067, 'O': 0.075,\n",
    "    'P': 0.019, 'Q': 0.00095, 'R': 0.06, 'S': 0.063, 'T': 0.091,\n",
    "    'U': 0.028, 'V': 0.0098, 'W': 0.024, 'X': 0.0015, 'Y': 0.02, 'Z': 0.00074\n",
    "}\n",
    "\n",
    "LETTERS = string.ascii_uppercase\n",
    "\n",
    "def vigenere_decrypt(ciphertext, key):\n",
    "    \"\"\"Decrypt Vigenère cipher given ciphertext and key.\"\"\"\n",
    "    plaintext = []\n",
    "    key = key.upper()\n",
    "    for i, c in enumerate(ciphertext):\n",
    "        if c in LETTERS:\n",
    "            shift = LETTERS.index(key[i % len(key)])\n",
    "            p = (LETTERS.index(c) - shift) % 26\n",
    "            plaintext.append(LETTERS[p])\n",
    "        else:\n",
    "            plaintext.append(c)\n",
    "    return ''.join(plaintext)\n",
    "\n",
    "def caesar_score(text):\n",
    "    \"\"\"Score a text segment by comparing letter frequencies with English frequencies.\"\"\"\n",
    "    N = len(text)\n",
    "    if N == 0:\n",
    "        return float('inf')\n",
    "    counts = Counter(text)\n",
    "    chi2 = 0\n",
    "    for letter in LETTERS:\n",
    "        observed = counts.get(letter, 0)\n",
    "        expected = ENGLISH_FREQ[letter] * N\n",
    "        chi2 += (observed - expected) ** 2 / (expected + 1e-9)\n",
    "    return chi2\n",
    "\n",
    "def guess_caesar_shift(segment):\n",
    "    \"\"\"Guess the Caesar shift for a segment using chi-squared statistic.\"\"\"\n",
    "    best_shift, best_score = None, float('inf')\n",
    "    for shift in range(26):\n",
    "        decrypted = ''.join(LETTERS[(LETTERS.index(c) - shift) % 26] for c in segment)\n",
    "        score = caesar_score(decrypted)\n",
    "        if score < best_score:\n",
    "            best_score = score\n",
    "            best_shift = shift\n",
    "    return best_shift\n",
    "\n",
    "def guess_vigenere_key(ciphertext, key_len):\n",
    "    \"\"\"Guess the Vigenère key of given length.\"\"\"\n",
    "    key = \"\"\n",
    "    for i in range(key_len):\n",
    "        segment = ciphertext[i::key_len]  # every i-th letter\n",
    "        shift = guess_caesar_shift(segment)\n",
    "        key += LETTERS[shift]\n",
    "    return key\n",
    "\n",
    "# =====================\n",
    "# 🔍 Example\n",
    "# =====================\n",
    "#ciphertext = \"LXFOPVEFRNHR\"  # \"ATTACKATDAWN\" encrypted with key \"LEMON\"\n",
    "\n",
    "ciphertext = vigenere_encrypt(\"ITWASTHEBESTOFTIMESITWASTHEWORSTOFTIMESITWASTHEAGEOFWISDOMITWASTHEAGEOFFOOLISHNESSITWASTHEEPOCHOFBELIEFITWASTHEEPOCHOFINCREDULITYITWASTHESEASONOFLIGHTITWASTHESEASONOFDARKNESSITWASTHESPRINGOFHOPEITWASTHEWINTEROFDESPAIR\", \"LEMON\")\n",
    "\n",
    "\n",
    "key_len = 5  # assume we already guessed correctly\n",
    "\n",
    "guessed_key = guess_vigenere_key(ciphertext, key_len)\n",
    "decrypted = vigenere_decrypt(ciphertext, guessed_key)\n",
    "\n",
    "print(\"Ciphertext: \", ciphertext)\n",
    "print(\"Guessed Key:\", guessed_key)\n",
    "print(\"Decrypted:  \", decrypted)\n"
   ]
  },
  {
   "cell_type": "markdown",
   "metadata": {},
   "source": [
    "## 5. Conclusions\n",
    "\n",
    "- **Classical ciphers** are useful for learning but offer **no real security** today.  \n",
    "- **Brute force** and **frequency analysis** break them quickly.  \n",
    "- **Perfect secrecy** exists only with OTP, but key distribution makes it impractical.  \n",
    "- This motivates **modern cryptography**, which balances strong security with efficiency.  \n"
   ]
  },
  {
   "cell_type": "code",
   "execution_count": null,
   "metadata": {},
   "outputs": [],
   "source": []
  }
 ],
 "metadata": {
  "kernelspec": {
   "display_name": "Python 3",
   "language": "python",
   "name": "python3"
  },
  "language_info": {
   "codemirror_mode": {
    "name": "ipython",
    "version": 3
   },
   "file_extension": ".py",
   "mimetype": "text/x-python",
   "name": "python",
   "nbconvert_exporter": "python",
   "pygments_lexer": "ipython3",
   "version": "3.7.6"
  }
 },
 "nbformat": 4,
 "nbformat_minor": 5
}
