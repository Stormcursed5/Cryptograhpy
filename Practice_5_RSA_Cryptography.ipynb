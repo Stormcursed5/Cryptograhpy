{
 "cells": [
  {
   "cell_type": "code",
   "execution_count": 2,
   "metadata": {},
   "outputs": [
    {
     "name": "stdout",
     "output_type": "stream",
     "text": [
      "Public Key: (65537, 24257)\n",
      "Private Key: (3113, 24257)\n",
      "Primes used (for educational purposes): 191 127\n",
      "Original message: 42\n",
      "Encrypted message: 12350\n",
      "Decrypted message: 42\n"
     ]
    }
   ],
   "source": [
    " # ## 1. Import Required Libraries\n",
    "import random\n",
    "from math import gcd\n",
    "\n",
    "# ## 2. Extended Euclidean Algorithm for Modular Inverse\n",
    "def egcd(a, b):\n",
    "    if a == 0:\n",
    "        return (b, 0, 1)\n",
    "    else:\n",
    "        g, y, x = egcd(b % a, a)\n",
    "        return (g, x - (b // a) * y, y)\n",
    "\n",
    "def modinv(e, phi):\n",
    "    g, x, _ = egcd(e, phi)\n",
    "    if g != 1:\n",
    "        raise Exception('Modular inverse does not exist')\n",
    "    else:\n",
    "        return x % phi\n",
    "\n",
    "# ## 3. Prime Number Generation (for simplicity using small primes)\n",
    "# NOTE: For real RSA use, use cryptographic libraries for secure primes.\n",
    "def is_prime(n):\n",
    "    if n <= 1:\n",
    "        return False\n",
    "    for i in range(2, int(n**0.5) + 1):\n",
    "        if n % i == 0:\n",
    "            return False\n",
    "    return True\n",
    "\n",
    "def generate_prime_candidate(start=100, end=300):\n",
    "    while True:\n",
    "        p = random.randint(start, end)\n",
    "        if is_prime(p):\n",
    "            return p\n",
    "\n",
    "# ## 4. RSA Key Generation\n",
    "def generate_keys():\n",
    "    p = generate_prime_candidate()\n",
    "    q = generate_prime_candidate()\n",
    "    while q == p:\n",
    "        q = generate_prime_candidate()\n",
    "\n",
    "    n = p * q\n",
    "    phi = (p - 1) * (q - 1)\n",
    "\n",
    "    e = 65537\n",
    "    if gcd(e, phi) != 1:\n",
    "        # fallback if 65537 not suitable\n",
    "        e = 3\n",
    "        while gcd(e, phi) != 1:\n",
    "            e += 2\n",
    "\n",
    "    d = modinv(e, phi)\n",
    "    return ((e, n), (d, n), p, q)\n",
    "\n",
    "# ## 5. Encryption and Decryption\n",
    "def encrypt(message, pub_key):\n",
    "    e, n = pub_key\n",
    "    return pow(message, e, n)\n",
    "\n",
    "def decrypt(ciphertext, priv_key):\n",
    "    d, n = priv_key\n",
    "    return pow(ciphertext, d, n)\n",
    "\n",
    "# ## 6. Demo Execution\n",
    "public_key, private_key, p, q = generate_keys()\n",
    "\n",
    "print(\"Public Key:\", public_key)\n",
    "print(\"Private Key:\", private_key)\n",
    "print(\"Primes used (for educational purposes):\", p, q)\n",
    "\n",
    "# Convert message to integer (simple case)\n",
    "message = 42\n",
    "print(\"Original message:\", message)\n",
    "\n",
    "cipher = encrypt(message, public_key)\n",
    "print(\"Encrypted message:\", cipher)\n",
    "\n",
    "decrypted = decrypt(cipher, private_key)\n",
    "print(\"Decrypted message:\", decrypted)\n",
    "\n",
    "assert message == decrypted, \"Decryption failed: the original and decrypted messages do not match.\"\n",
    "\n",
    "# You can experiment with other message values < n\n",
    "\n"
   ]
  },
  {
   "cell_type": "code",
   "execution_count": 5,
   "metadata": {},
   "outputs": [
    {
     "data": {
      "image/png": "[encoded data removed]",
      "text/plain": [
       "<Figure size 864x432 with 1 Axes>"
      ]
     },
     "metadata": {
      "needs_background": "light"
     },
     "output_type": "display_data"
    }
   ],
   "source": [
    "# ## 8. Plot a^x mod n to illustrate discrete logarithm hardness\n",
    "import matplotlib.pyplot as plt\n",
    "\n",
    "n=23*51*17\n",
    "base = 5  # You can change this to another base (e.g., 2, 3, 7)\n",
    "X = list(range(0, 500))\n",
    "Y = [pow(base, x, n) for x in X]\n",
    "\n",
    "plt.figure(figsize=(12, 6))\n",
    "plt.plot(X, Y, '.', markersize=2)\n",
    "plt.title(f\"Plot of {base}^x mod n (n = {n})\")\n",
    "plt.xlabel(\"x\")\n",
    "plt.ylabel(f\"{base}^x mod n\")\n",
    "plt.grid(True)\n",
    "plt.show()\n"
   ]
  },
  {
   "cell_type": "markdown",
   "metadata": {},
   "source": [
    "<strong> Why You Can’t Just Encrypt Arbitrarily Large Data?: \n",
    "RSA can only encrypt messages smaller than n. </strong>\n",
    "\n",
    "If your message is larger:\n",
    "\n",
    "You must split it into blocks smaller than  n.\n",
    "\n",
    "Or better: use RSA to encrypt a symmetric key (like AES), and then encrypt the actual data with that key (hybrid encryption)."
   ]
  },
  {
   "cell_type": "code",
   "execution_count": 3,
   "metadata": {},
   "outputs": [
    {
     "name": "stdout",
     "output_type": "stream",
     "text": [
      "Collecting rsa\n",
      "  Downloading rsa-4.9.1-py3-none-any.whl.metadata (5.6 kB)\n",
      "Collecting pyasn1>=0.1.3 (from rsa)\n",
      "  Downloading pyasn1-0.5.1-py2.py3-none-any.whl.metadata (8.6 kB)\n",
      "Downloading rsa-4.9.1-py3-none-any.whl (34 kB)\n",
      "Downloading pyasn1-0.5.1-py2.py3-none-any.whl (84 kB)\n",
      "\u001b[2K   \u001b[90m━━━━━━━━━━━━━━━━━━━━━━━━━━━━━━━━━━━━━━━━\u001b[0m \u001b[32m84.9/84.9 kB\u001b[0m \u001b[31m4.2 MB/s\u001b[0m eta \u001b[36m0:00:00\u001b[0m\n",
      "\u001b[?25h\u001b[33mDEPRECATION: pyodbc 4.0.0-unsupported has a non-standard version number. pip 24.1 will enforce this behaviour change. A possible replacement is to upgrade to a newer version of pyodbc or contact the author to suggest that they release a version with a conforming version number. Discussion can be found at https://github.com/pypa/pip/issues/12063\u001b[0m\u001b[33m\n",
      "\u001b[0mInstalling collected packages: pyasn1, rsa\n",
      "Successfully installed pyasn1-0.5.1 rsa-4.9.1\n",
      "Note: you may need to restart the kernel to use updated packages.\n"
     ]
    }
   ],
   "source": [
    "pip install rsa"
   ]
  },
  {
   "cell_type": "code",
   "execution_count": 6,
   "metadata": {},
   "outputs": [
    {
     "name": "stdout",
     "output_type": "stream",
     "text": [
      "Original: b'A un amigo perdido'\n",
      "Encrypted: b'%U\\xc8\\xf5,\\x1d\\xd6!M\\x00Z\\xb3\\xf1\\\\e\\xcb\\t\\x1ei\\x9d^\\xc8\\xe5W\\xa1\\xf3I\\x03\\xa9\\xcb\\xfd\\xefHB\\xa4\\xd5\\nG[|\\xe3\\xca\\x81\\x10_bX\\x97:\\x17\\\\\\xbd\\x8bW\\xd4j\\x8f\\xf4\\x8ao\\xc7\\xa9NWj\\xbf\\xc4x*\\xb0\\x91@\\xa8\\xff\\x1al\\xdc\\xb9\\xbc\\xe9.I\\x01\\xceP\\x94\\x8b\\ry3\\xfcd`V\\xf5\\xbc\\xbf\\x7f\\x06\\xe4\\xf6\\xc9A3\\xde\\x96\\x18\\xe3\\xb9\\xab\\xb7eQ\\x86\\xdb\\t\\xbeK\\xea\\x1fy\\xccH\\x00\\x1f\\xcb\\xf47\\xe6\\x92\\xef(>:\\xa5{\\x00\\x08p\\x06\\xb70/\\xeb\\x80x\\xe7\\xf3\\\\\\x1e\\xa2\\r\"\\x1c\\xe8\\x93;\\xce\\xe1\\xa5\\xb7\\xb7[\\x1f6\\xffZ\\x93\\xe0\\x84Rf\\x19g\\xf7\\xf335q\\xd2\\x0c\\xbf\\x82Rs\\xfeG\\x0b`\\xc6\\x01\\\\\\xfe\\xc7s4<w\\x8cHS\\xaf8\\xde\"x\\xca\\x0e\\x90-\\xd5i\\x10\\xc0\\xd5a\\x06D/\\xa3\\xcf \\xed\\xf8\\xde@\\x1f\\xe89\\xf5\\x90\\xc3`3\\x1a~ |)p+\\xf5\\x93\\xd0\\xf4K\\xa2x.Y\\x95\\xaf\\xb2?S\\xf9'\n",
      "Decrypted: b'A un amigo perdido'\n"
     ]
    }
   ],
   "source": [
    "import rsa\n",
    "\n",
    "# Key generation\n",
    "public_key, private_key = rsa.newkeys(2048)\n",
    "\n",
    "# Message\n",
    "message = b\"A un amigo perdido\"\n",
    "\n",
    "# Encryption\n",
    "ciphertext = rsa.encrypt(message, public_key)\n",
    "\n",
    "# Decryption\n",
    "plaintext = rsa.decrypt(ciphertext, private_key)\n",
    "\n",
    "print(\"Original:\", message)\n",
    "print(\"Encrypted:\", ciphertext)\n",
    "print(\"Decrypted:\", plaintext)\n"
   ]
  },
  {
   "cell_type": "code",
   "execution_count": null,
   "metadata": {},
   "outputs": [],
   "source": [
    "# Convert message to bytes\n",
    "msg = \"Hello, RSA!\"\n",
    "msg_bytes = msg.encode('utf-8')  # UTF-8 encoding\n",
    "\n",
    "# Convert bytes to integer\n",
    "m = int.from_bytes(msg_bytes, byteorder='big')\n",
    "\n",
    "# Check size relative to n\n",
    "if m >= n:\n",
    "    raise ValueError(\"Message too long for the current RSA modulus.\")\n"
   ]
  },
  {
   "cell_type": "code",
   "execution_count": null,
   "metadata": {},
   "outputs": [],
   "source": [
    "# Convert decrypted int back to bytes\n",
    "msg_len = (m.bit_length() + 7) // 8\n",
    "msg_bytes = m.to_bytes(msg_len, byteorder='big')\n",
    "\n",
    "# Decode bytes to string\n",
    "original_msg = msg_bytes.decode('utf-8')"
   ]
  },
  {
   "cell_type": "code",
   "execution_count": null,
   "metadata": {},
   "outputs": [],
   "source": []
  }
 ],
 "metadata": {
  "kernelspec": {
   "display_name": "Python 3",
   "language": "python",
   "name": "python3"
  },
  "language_info": {
   "codemirror_mode": {
    "name": "ipython",
    "version": 3
   },
   "file_extension": ".py",
   "mimetype": "text/x-python",
   "name": "python",
   "nbconvert_exporter": "python",
   "pygments_lexer": "ipython3",
   "version": "3.7.6"
  }
 },
 "nbformat": 4,
 "nbformat_minor": 4
}
