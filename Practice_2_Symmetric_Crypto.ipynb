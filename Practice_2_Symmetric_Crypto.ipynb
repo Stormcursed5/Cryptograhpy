{
 "cells": [
  {
   "cell_type": "markdown",
   "metadata": {},
   "source": [
    "# Practical Activity 2: Symmetric Cryptography\n",
    "\n",
    "## 🎯 Objectives\n",
    "- Implement examples of **symmetric cryptography** in Python.\n",
    "- Understand **block ciphers** vs **stream ciphers**.\n",
    "- Use **DES** and **AES** (ECB/CBC/CTR/GCM) with `pycryptodome`.\n",
    "- Solve and **explain** core exercises about modes, IVs, and keystream reuse.\n",
    "\n",
    "---\n",
    "## 1. Introduction\n",
    "Symmetric cryptography uses the **same secret key** for encryption and decryption. There are two broad families:\n",
    "- **Block ciphers** (operate on fixed-size blocks, e.g., DES with 64-bit blocks, AES with 128-bit blocks).\n",
    "- **Stream ciphers** (generate a keystream and XOR it with plaintext, e.g., ChaCha20, Salsa20).\n",
    "\n",
    "**DES** is historically important but **insecure today** due to its short key (56 bits). **AES** is the modern standard and remains secure when used properly with secure **modes of operation** and parameters.\n"
   ]
  },
  {
   "cell_type": "markdown",
   "metadata": {},
   "source": [
    "### Environment setup\n",
    "This notebook expects **pycryptodome**. If needed, install it in your environment:\n",
    "```bash\n",
    "pip install pycryptodome\n",
    "```\n"
   ]
  },
  {
   "cell_type": "code",
   "execution_count": 1,
   "metadata": {},
   "outputs": [],
   "source": [
    "# Imports and helpers\n",
    "import os, math, secrets, textwrap\n",
    "from collections import Counter\n",
    "from binascii import hexlify\n",
    "\n",
    "try:\n",
    "    from Crypto.Cipher import DES, AES, ChaCha20\n",
    "    from Crypto.Random import get_random_bytes\n",
    "except Exception as e:\n",
    "    raise RuntimeError(\"pycryptodome is required: pip install pycryptodome\") from e\n",
    "\n",
    "def pkcs7_pad(data: bytes, block_size: int) -> bytes:\n",
    "    pad_len = block_size - (len(data) % block_size)\n",
    "    return data + bytes([pad_len])*pad_len\n",
    "\n",
    "def pkcs7_unpad(data: bytes) -> bytes:\n",
    "    if not data:\n",
    "        raise ValueError(\"Empty input\")\n",
    "    pad_len = data[-1]\n",
    "    if pad_len < 1 or pad_len > len(data):\n",
    "        raise ValueError(\"Invalid padding\")\n",
    "    if data[-pad_len:] != bytes([pad_len])*pad_len:\n",
    "        raise ValueError(\"Invalid padding\")\n",
    "    return data[:-pad_len]\n",
    "\n",
    "def chunks(b: bytes, size: int):\n",
    "    for i in range(0, len(b), size):\n",
    "        yield b[i:i+size]\n",
    "\n",
    "def describe_blocks(b: bytes, block_size: int):\n",
    "    blks = [b[i:i+block_size] for i in range(0, len(b), block_size)]\n",
    "    uniq = len(set(blks))\n",
    "    return len(blks), uniq\n"
   ]
  },
  {
   "cell_type": "markdown",
   "metadata": {},
   "source": [
    "## 2. Block Ciphers\n",
    "We'll demonstrate **DES** and **AES** in several modes, and empirically show why **ECB is insecure** (pattern leakage), while **CBC/CTR/GCM** provide better confidentiality (and GCM adds integrity).\n"
   ]
  },
  {
   "cell_type": "markdown",
   "metadata": {},
   "source": [
    "### 2.1 DES (ECB and CBC)\n",
    "- DES block size: 8 bytes (64 bits).\n",
    "- DES key: 8 bytes (56 effective bits + 8 parity bits).\n",
    "- **ECB** encrypts each block independently → identical plaintext blocks yield identical ciphertext blocks.\n",
    "- **CBC** chains blocks with an **IV** → hides patterns.\n"
   ]
  },
  {
   "cell_type": "code",
   "execution_count": 2,
   "metadata": {},
   "outputs": [
    {
     "name": "stdout",
     "output_type": "stream",
     "text": [
      "DES-ECB total blocks: 8 unique blocks: 1\n",
      "DES-CBC total blocks: 8 unique blocks: 8\n"
     ]
    },
    {
     "data": {
      "text/plain": [
       "(b' \\x85\"\\xff\\xdf^Zi \\x85\"\\xff\\xdf^Zi \\x85\"\\xff\\xdf^Zi \\x85\"\\xff\\xdf^Zi',\n",
       " b'\\x97\\x90U\\xb6L\\xe4\\x84\\x02z\\xd9\\xb3\\xe97\\x8c\\xf5\\\\?-\\xef\\xb8c\\xc6\\x03\\xde\\xba\\xb0g&l0o%')"
      ]
     },
     "execution_count": 2,
     "metadata": {},
     "output_type": "execute_result"
    }
   ],
   "source": [
    "# DES in ECB vs CBC\n",
    "key_des = get_random_bytes(8)  # 8 bytes key for DES\n",
    "plaintext_blocks = (b\"HELLODES\" * 8)  # 8*8 = 64 bytes, repeated identical blocks\n",
    "\n",
    "# ECB\n",
    "cipher_ecb = DES.new(key_des, DES.MODE_ECB)\n",
    "ct_ecb = cipher_ecb.encrypt(plaintext_blocks)  # already block-aligned\n",
    "total, unique_ = describe_blocks(ct_ecb, 8)\n",
    "print(\"DES-ECB total blocks:\", total, \"unique blocks:\", unique_)\n",
    "\n",
    "# CBC with random IV\n",
    "iv_des = get_random_bytes(8)\n",
    "cipher_cbc = DES.new(key_des, DES.MODE_CBC, iv=iv_des)\n",
    "ct_cbc = cipher_cbc.encrypt(plaintext_blocks)\n",
    "total_cbc, unique_cbc = describe_blocks(ct_cbc, 8)\n",
    "print(\"DES-CBC total blocks:\", total_cbc, \"unique blocks:\", unique_cbc)\n",
    "\n",
    "ct_ecb[:32], ct_cbc[:32]  # peek into first 32 bytes of each ciphertext"
   ]
  },
  {
   "cell_type": "markdown",
   "metadata": {},
   "source": [
    "We expect **DES-ECB** to show **few unique blocks** (pattern leakage), while **CBC** should show **more unique blocks** due to chaining with the IV.\n"
   ]
  },
  {
   "cell_type": "markdown",
   "metadata": {},
   "source": [
    "### 2.2 AES (ECB, CBC, CTR, GCM)\n",
    "- AES block size: 16 bytes (128 bits). Keys: 16/24/32 bytes (AES-128/192/256).\n",
    "- We'll demonstrate:\n",
    "  - **ECB** (insecure),\n",
    "  - **CBC** (needs random IV, provides confidentiality),\n",
    "  - **CTR** (stream-like; needs unique nonce),\n",
    "  - **GCM** (provides confidentiality **and** integrity via an authentication tag).\n"
   ]
  },
  {
   "cell_type": "code",
   "execution_count": 3,
   "metadata": {},
   "outputs": [
    {
     "name": "stdout",
     "output_type": "stream",
     "text": [
      "AES-ECB total blocks: 16 unique blocks: 1\n"
     ]
    },
    {
     "data": {
      "text/plain": [
       "b'\\xac\\xa14\\xe9\\xcc6\\xc59\\xa1]`\\xdc\\xe2X\\x0e\\x98\\xac\\xa14\\xe9\\xcc6\\xc59\\xa1]`\\xdc\\xe2X\\x0e\\x98'"
      ]
     },
     "execution_count": 3,
     "metadata": {},
     "output_type": "execute_result"
    }
   ],
   "source": [
    "# AES-ECB: Pattern leakage demo\n",
    "key_aes = get_random_bytes(16)  # AES-128\n",
    "block = b\"ABCDEFGHIJKLMNOP\"  # 16 bytes\n",
    "pt = block * 16  # many repeated blocks\n",
    "cipher_ecb = AES.new(key_aes, AES.MODE_ECB)\n",
    "ct_ecb = cipher_ecb.encrypt(pt)\n",
    "total, unique_ = describe_blocks(ct_ecb, 16)\n",
    "print(\"AES-ECB total blocks:\", total, \"unique blocks:\", unique_)\n",
    "ct_ecb[:32]"
   ]
  },
  {
   "cell_type": "code",
   "execution_count": 4,
   "metadata": {},
   "outputs": [
    {
     "name": "stdout",
     "output_type": "stream",
     "text": [
      "Ciphertext length (CBC): 96\n"
     ]
    },
    {
     "data": {
      "text/plain": [
       "b'ECB leaks patterns. CBC hides them by XORing with previous ciphertext and a random IV.'"
      ]
     },
     "execution_count": 4,
     "metadata": {},
     "output_type": "execute_result"
    }
   ],
   "source": [
    "# AES-CBC with PKCS7 padding\n",
    "iv_cbc = get_random_bytes(16)\n",
    "msg = b\"ECB leaks patterns. CBC hides them by XORing with previous ciphertext and a random IV.\"\n",
    "cipher_cbc = AES.new(key_aes, AES.MODE_CBC, iv=iv_cbc)\n",
    "ct_cbc = cipher_cbc.encrypt(pkcs7_pad(msg, 16))\n",
    "print(\"Ciphertext length (CBC):\", len(ct_cbc))\n",
    "\n",
    "# Decrypt & unpad\n",
    "pt_rec = pkcs7_unpad(AES.new(key_aes, AES.MODE_CBC, iv=iv_cbc).decrypt(ct_cbc))\n",
    "pt_rec"
   ]
  },
  {
   "cell_type": "code",
   "execution_count": 5,
   "metadata": {},
   "outputs": [
    {
     "data": {
      "text/plain": [
       "b'CTR turns AES into a stream cipher by creating a keystream from counters.'"
      ]
     },
     "execution_count": 5,
     "metadata": {},
     "output_type": "execute_result"
    }
   ],
   "source": [
    "# AES-CTR (stream-like). Never reuse (key, nonce)!\n",
    "nonce_ctr = get_random_bytes(8)  # 64-bit nonce for CTR in pycryptodome\n",
    "cipher_ctr = AES.new(key_aes, AES.MODE_CTR, nonce=nonce_ctr)\n",
    "msg_ctr = b\"CTR turns AES into a stream cipher by creating a keystream from counters.\"\n",
    "ct_ctr = cipher_ctr.encrypt(msg_ctr)\n",
    "\n",
    "# Decrypt\n",
    "pt_ctr = AES.new(key_aes, AES.MODE_CTR, nonce=nonce_ctr).decrypt(ct_ctr)\n",
    "pt_ctr"
   ]
  },
  {
   "cell_type": "code",
   "execution_count": 6,
   "metadata": {},
   "outputs": [
    {
     "name": "stdout",
     "output_type": "stream",
     "text": [
      "GCM nonce: b'efcafd363b05f4cb8519e98d3d0e9912'\n",
      "GCM tag: b'a016b615b566a4f3404d51304056a93d'\n"
     ]
    },
    {
     "data": {
      "text/plain": [
       "b'GCM provides confidentiality and integrity (auth tag).'"
      ]
     },
     "execution_count": 6,
     "metadata": {},
     "output_type": "execute_result"
    }
   ],
   "source": [
    "# AES-GCM (authenticated encryption)\n",
    "key_gcm = get_random_bytes(16)\n",
    "aad = b\"metadata: course=crypto101; activity=2\"\n",
    "cipher_gcm = AES.new(key_gcm, AES.MODE_GCM)\n",
    "cipher_gcm.update(aad)\n",
    "msg_gcm = b\"GCM provides confidentiality and integrity (auth tag).\"\n",
    "ct_gcm, tag = cipher_gcm.encrypt_and_digest(msg_gcm)\n",
    "nonce_gcm = cipher_gcm.nonce\n",
    "print(\"GCM nonce:\", hexlify(nonce_gcm))\n",
    "print(\"GCM tag:\", hexlify(tag))\n",
    "\n",
    "# Verify\n",
    "dec = AES.new(key_gcm, AES.MODE_GCM, nonce=nonce_gcm)\n",
    "dec.update(aad)\n",
    "pt_gcm = dec.decrypt_and_verify(ct_gcm, tag)\n",
    "pt_gcm"
   ]
  },
  {
   "cell_type": "markdown",
   "metadata": {},
   "source": [
    "Tamper with the ciphertext or tag and **decryption will fail** in GCM, demonstrating **integrity protection**.\n"
   ]
  },
  {
   "cell_type": "code",
   "execution_count": 7,
   "metadata": {},
   "outputs": [
    {
     "name": "stdout",
     "output_type": "stream",
     "text": [
      "Expected failure due to tampering: ValueError MAC check failed\n"
     ]
    }
   ],
   "source": [
    "# GCM tampering demo (expect an exception)\n",
    "bad_ct = bytearray(ct_gcm)\n",
    "bad_ct[0] ^= 0x01  # flip a bit\n",
    "try:\n",
    "    dec_bad = AES.new(key_gcm, AES.MODE_GCM, nonce=nonce_gcm)\n",
    "    dec_bad.update(aad)\n",
    "    dec_bad.decrypt_and_verify(bytes(bad_ct), tag)\n",
    "    print(\"[!] Unexpected: tampering not detected\")\n",
    "except Exception as e:\n",
    "    print(\"Expected failure due to tampering:\", type(e).__name__, str(e)[:80])"
   ]
  },
  {
   "cell_type": "markdown",
   "metadata": {},
   "source": [
    "## 3. Stream Ciphers\n",
    "We'll start with a **toy XOR keystream** example, then use **ChaCha20** from `pycryptodome`.\n",
    "\n",
    "**Important**: Reusing the same keystream (same key+nonce) across messages is **catastrophic**. We'll demonstrate why.\n"
   ]
  },
  {
   "cell_type": "code",
   "execution_count": 8,
   "metadata": {},
   "outputs": [
    {
     "name": "stdout",
     "output_type": "stream",
     "text": [
      "m1 ^ m2 (hex): b'0c111115430a544100480141050758'\n"
     ]
    },
    {
     "data": {
      "text/plain": [
       "b'Meet at the riv'"
      ]
     },
     "execution_count": 8,
     "metadata": {},
     "output_type": "execute_result"
    }
   ],
   "source": [
    "# 3.1 Toy XOR stream cipher\n",
    "def xor_bytes(a: bytes, b: bytes) -> bytes:\n",
    "    return bytes(x ^ y for x, y in zip(a, b))\n",
    "\n",
    "keystream = os.urandom(64)\n",
    "m1 = b\"Attack at dawn.\"\n",
    "m2 = b\"Meet at the river.\"\n",
    "c1 = xor_bytes(m1, keystream)\n",
    "c2 = xor_bytes(m2, keystream)\n",
    "\n",
    "# Attacker computes c1 ^ c2 = m1 ^ m2; with a known-plaintext guess, can recover the other\n",
    "xored = xor_bytes(c1, c2)\n",
    "print(\"m1 ^ m2 (hex):\", hexlify(xored))\n",
    "\n",
    "# Suppose attacker knows m1; they can recover m2 as (c1 ^ c2) ^ m1\n",
    "recovered_m2 = xor_bytes(xored, m1)\n",
    "recovered_m2"
   ]
  },
  {
   "cell_type": "markdown",
   "metadata": {},
   "source": [
    "### 3.2 ChaCha20 (stream cipher)\n",
    "- ChaCha20 uses a **key** and a **nonce** to generate a keystream.\n",
    "- Never reuse the same (key, nonce) pair.\n"
   ]
  },
  {
   "cell_type": "code",
   "execution_count": 9,
   "metadata": {},
   "outputs": [
    {
     "name": "stdout",
     "output_type": "stream",
     "text": [
      "ciphertext (hex): b'65f2c66d179a92db53ca8f4ffa8f0f9646b9d1d9b513283042d3382ddc8d4449' b'...'\n"
     ]
    },
    {
     "data": {
      "text/plain": [
       "b'ChaCha20 is a secure stream cipher when nonces are never reused.'"
      ]
     },
     "execution_count": 9,
     "metadata": {},
     "output_type": "execute_result"
    }
   ],
   "source": [
    "# ChaCha20 encrypt/decrypt\n",
    "key = get_random_bytes(32)  # 256-bit key\n",
    "nonce = get_random_bytes(8)  # 64-bit nonce in pycryptodome's ChaCha20\n",
    "cipher = ChaCha20.new(key=key, nonce=nonce)\n",
    "msg = b\"ChaCha20 is a secure stream cipher when nonces are never reused.\"\n",
    "ct = cipher.encrypt(msg)\n",
    "print(\"ciphertext (hex):\", hexlify(ct)[:64], b\"...\")\n",
    "\n",
    "cipher2 = ChaCha20.new(key=key, nonce=nonce)\n",
    "pt = cipher2.decrypt(ct)\n",
    "pt"
   ]
  },
  {
   "cell_type": "markdown",
   "metadata": {},
   "source": [
    "#### Keystream reuse attack with ChaCha20 (do **not** do this in practice)\n",
    "If we (incorrectly) reuse the same (key, nonce) for two messages, the keystream repeats and the **XOR of ciphertexts** reveals the **XOR of plaintexts**.\n"
   ]
  },
  {
   "cell_type": "code",
   "execution_count": 10,
   "metadata": {},
   "outputs": [
    {
     "name": "stdout",
     "output_type": "stream",
     "text": [
      "c1^c2 (hex): b'0000000000000000000000000008000000000000'\n"
     ]
    },
    {
     "data": {
      "text/plain": [
       "b'THE PRICE IS 900 EUR'"
      ]
     },
     "execution_count": 10,
     "metadata": {},
     "output_type": "execute_result"
    }
   ],
   "source": [
    "key_r = get_random_bytes(32)\n",
    "nonce_r = get_random_bytes(8)\n",
    "m1 = b\"THE PRICE IS 100 EUR\"\n",
    "m2 = b\"THE PRICE IS 900 EUR\"\n",
    "\n",
    "# WRONG: reusing (key, nonce)\n",
    "c1 = ChaCha20.new(key=key_r, nonce=nonce_r).encrypt(m1)\n",
    "c2 = ChaCha20.new(key=key_r, nonce=nonce_r).encrypt(m2)\n",
    "\n",
    "leak = xor_bytes(c1, c2)\n",
    "print(\"c1^c2 (hex):\", hexlify(leak))\n",
    "\n",
    "# If attacker knows m1, they can derive m2\n",
    "m2_recovered = xor_bytes(leak, m1)\n",
    "m2_recovered"
   ]
  },
  {
   "cell_type": "markdown",
   "metadata": {},
   "source": [
    "## 4. Exercises (Solved)\n",
    "\n",
    "### 4.1 Show why AES-ECB is insecure\n",
    "We'll encrypt a highly repetitive plaintext and count unique ciphertext blocks.\n"
   ]
  },
  {
   "cell_type": "code",
   "execution_count": 11,
   "metadata": {},
   "outputs": [
    {
     "name": "stdout",
     "output_type": "stream",
     "text": [
      "{'total_blocks': 34, 'unique_blocks': 17}\n"
     ]
    }
   ],
   "source": [
    "key = get_random_bytes(16)\n",
    "pt = (b\"PATTERN-LEAK-ECB!\" * 32)  # 16 bytes repeated\n",
    "ct = AES.new(key, AES.MODE_ECB).encrypt(pt)\n",
    "total, unique_ = describe_blocks(ct, 16)\n",
    "print({\"total_blocks\": total, \"unique_blocks\": unique_})\n",
    "assert unique_ < total, \"ECB should leak patterns (many identical blocks).\""
   ]
  },
  {
   "cell_type": "markdown",
   "metadata": {},
   "source": [
    "### 4.2 AES-CBC: effect of the IV\n",
    "We'll encrypt the **same message** twice with the **same key** but **different random IVs**, and show the ciphertexts differ completely.\n"
   ]
  },
  {
   "cell_type": "code",
   "execution_count": 12,
   "metadata": {},
   "outputs": [
    {
     "name": "stdout",
     "output_type": "stream",
     "text": [
      "c1[:16] != c2[:16]? True\n"
     ]
    },
    {
     "data": {
      "text/plain": [
       "b'Same message, different IVs -> different ciphertexts.'"
      ]
     },
     "execution_count": 12,
     "metadata": {},
     "output_type": "execute_result"
    }
   ],
   "source": [
    "key = get_random_bytes(16)\n",
    "msg = b\"Same message, different IVs -> different ciphertexts.\"\n",
    "iv1, iv2 = get_random_bytes(16), get_random_bytes(16)\n",
    "c1 = AES.new(key, AES.MODE_CBC, iv=iv1).encrypt(pkcs7_pad(msg, 16))\n",
    "c2 = AES.new(key, AES.MODE_CBC, iv=iv2).encrypt(pkcs7_pad(msg, 16))\n",
    "print(\"c1[:16] != c2[:16]?\", c1[:16] != c2[:16])\n",
    "pkcs7_unpad(AES.new(key, AES.MODE_CBC, iv=iv1).decrypt(c1))\n",
    "pkcs7_unpad(AES.new(key, AES.MODE_CBC, iv=iv2).decrypt(c2))"
   ]
  },
  {
   "cell_type": "markdown",
   "metadata": {},
   "source": [
    "### 4.3 Keystream reuse is catastrophic (stream ciphers)\n",
    "We repeat the ChaCha20 reuse experiment but show recovery via a small known-plaintext fragment.\n"
   ]
  },
  {
   "cell_type": "code",
   "execution_count": 13,
   "metadata": {},
   "outputs": [
    {
     "name": "stdout",
     "output_type": "stream",
     "text": [
      "Leaked XOR for header -> b'To: Alice\\n'\n"
     ]
    },
    {
     "data": {
      "text/plain": [
       "b'Recovered equals m2? True'"
      ]
     },
     "execution_count": 13,
     "metadata": {},
     "output_type": "execute_result"
    }
   ],
   "source": [
    "key = get_random_bytes(32)\n",
    "nonce = get_random_bytes(8)\n",
    "m1 = b\"To: Alice\\nAmount: 000 EUR\\n\"\n",
    "m2 = b\"To: Alice\\nAmount: 999 EUR\\n\"\n",
    "c1 = ChaCha20.new(key=key, nonce=nonce).encrypt(m1)\n",
    "c2 = ChaCha20.new(key=key, nonce=nonce).encrypt(m2)\n",
    "\n",
    "x = xor_bytes(c1, c2)\n",
    "known_prefix = b\"To: Alice\\n\"  # adversary guesses/knows this header\n",
    "recovered_suffix = xor_bytes(x[:len(known_prefix)], known_prefix)\n",
    "print(\"Leaked XOR for header ->\", recovered_suffix)\n",
    "\n",
    "# Full recovery if full m1 known\n",
    "assert xor_bytes(x, m1) == m2\n",
    "b\"Recovered equals m2? \"+ str(xor_bytes(x, m1) == m2).encode()"
   ]
  },
  {
   "cell_type": "markdown",
   "metadata": {},
   "source": [
    "### 4.4 DES vs AES brute-force feasibility\n",
    "Compute back-of-the-envelope time to brute force at **10^12 keys/second** (optimistic attacker):\n"
   ]
  },
  {
   "cell_type": "code",
   "execution_count": 14,
   "metadata": {},
   "outputs": [
    {
     "name": "stdout",
     "output_type": "stream",
     "text": [
      "{'DES_56_bits_years': 0.0022833673675415095, 'AES128_bits_years': 1.0782897524556319e+19, 'AES256_bits_years': 3.669229891921952e+57}\n"
     ]
    }
   ],
   "source": [
    "def years_to_bruteforce(bits, rate_keys_per_sec=1e12):\n",
    "    space = 2**bits\n",
    "    seconds = space / rate_keys_per_sec\n",
    "    years = seconds / (60*60*24*365.25)\n",
    "    return years\n",
    "\n",
    "print({\n",
    "    'DES_56_bits_years': years_to_bruteforce(56),\n",
    "    'AES128_bits_years': years_to_bruteforce(128),\n",
    "    'AES256_bits_years': years_to_bruteforce(256),\n",
    "})"
   ]
  },
  {
   "cell_type": "markdown",
   "metadata": {},
   "source": [
    "Interpretation:\n",
    "- **DES (56 bits)** is brute-forceable with specialized hardware (practically broken).\n",
    "- **AES-128** and **AES-256** have astronomically large key spaces; brute force is infeasible.\n"
   ]
  },
  {
   "cell_type": "markdown",
   "metadata": {},
   "source": [
    "## 5. Questions & Solutions (Conceptual)\n",
    "1. **Why was DES replaced by AES?**  \n",
    "   DES has a **56-bit key**, vulnerable to brute force; AES supports 128/192/256-bit keys, secure design, efficient in software and hardware.  \n",
    "2. **Why does ECB leak patterns?**  \n",
    "   ECB encrypts each block independently; **identical plaintext blocks → identical ciphertext blocks**. No semantic security.  \n",
    "3. **What do IVs/nonces do in CBC/CTR/GCM?**  \n",
    "   They ensure **freshness**: encrypting the same message again yields different ciphertexts; in GCM/CTR they must be **unique** per key.  \n",
    "4. **What happens if you reuse a stream-cipher nonce?**  \n",
    "   The keystream repeats; **c1 ⊕ c2 = m1 ⊕ m2**. With known plaintext, the other message is recovered.  \n",
    "5. **How does AES achieve security vs classical ciphers?**  \n",
    "   Larger block/key sizes, strong confusion/diffusion, resistance to known attacks, and secure **modes of operation** provide semantic security and integrity (with AEAD modes).\n"
   ]
  },
  {
   "cell_type": "markdown",
   "metadata": {},
   "source": [
    "## 6. Conclusions\n",
    "- **AES** is the modern standard; **use AEAD modes** (GCM/OCB/ChaCha20-Poly1305) when possible.\n",
    "- **Never** use ECB for sensitive data.\n",
    "- **IV/nonce discipline** is critical: CBC needs **random IVs**; CTR/GCM need **unique nonces**.\n",
    "- **Stream ciphers** are efficient and secure when used correctly; **keystream reuse breaks everything**.\n"
   ]
  },
  {
   "cell_type": "code",
   "execution_count": null,
   "metadata": {},
   "outputs": [],
   "source": []
  }
 ],
 "metadata": {
  "kernelspec": {
   "display_name": "Python 3",
   "language": "python",
   "name": "python3"
  },
  "language_info": {
   "codemirror_mode": {
    "name": "ipython",
    "version": 3
   },
   "file_extension": ".py",
   "mimetype": "text/x-python",
   "name": "python",
   "nbconvert_exporter": "python",
   "pygments_lexer": "ipython3",
   "version": "3.7.6"
  }
 },
 "nbformat": 4,
 "nbformat_minor": 5
}
