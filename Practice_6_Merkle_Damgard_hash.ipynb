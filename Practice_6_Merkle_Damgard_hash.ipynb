{
 "cells": [
  {
   "cell_type": "code",
   "execution_count": 15,
   "metadata": {},
   "outputs": [
    {
     "name": "stdout",
     "output_type": "stream",
     "text": [
      "Hash: 9595b678e83c1071\n"
     ]
    }
   ],
   "source": [
    "import struct\n",
    "\n",
    "def rotate_left(x, bits, width=64):\n",
    "    return ((x << bits) | (x >> (width - bits))) & ((1 << width) - 1)\n",
    "\n",
    "# Toy compression function: XOR and rotate\n",
    "def compression(h, m):\n",
    "    return rotate_left(h ^ m, 7)\n",
    "\n",
    "# Pad message using Merkle–Damgård strengthening\n",
    "def pad_message(msg_bytes, block_size=8):\n",
    "    msg_len_bits = len(msg_bytes) * 8\n",
    "    # Append '1' bit then zeroes\n",
    "    padded = msg_bytes + b'\\x80'\n",
    "    while (len(padded) + 8) % block_size != 0:\n",
    "        padded += b'\\x00'\n",
    "    # Append 64-bit length\n",
    "    padded += struct.pack('>Q', msg_len_bits)\n",
    "    return padded\n",
    "\n",
    "def merkle_damgard_hash(message: bytes, iv=0x0123456789ABCDEF, block_size=8):\n",
    "    padded = pad_message(message, block_size)\n",
    "    h = iv\n",
    "    for i in range(0, len(padded), block_size):\n",
    "        block = padded[i:i + block_size]\n",
    "        m = int.from_bytes(block, 'big')\n",
    "        h = compression(h, m)\n",
    "    return h\n",
    "\n",
    "def hash_to_hex(h: int) -> str:\n",
    "    return hex(h)[2:].zfill(16)\n",
    "\n",
    "# Example usage\n",
    "msg = b\"A un amigo perdido. Tu ya no debes recordarme, en el pais extranjero.\"\n",
    "digest = merkle_damgard_hash(msg)\n",
    "print(\"Hash:\", hash_to_hex(digest))\n"
   ]
  },
  {
   "cell_type": "code",
   "execution_count": null,
   "metadata": {},
   "outputs": [],
   "source": []
  }
 ],
 "metadata": {
  "kernelspec": {
   "display_name": "Python 3",
   "language": "python",
   "name": "python3"
  },
  "language_info": {
   "codemirror_mode": {
    "name": "ipython",
    "version": 3
   },
   "file_extension": ".py",
   "mimetype": "text/x-python",
   "name": "python",
   "nbconvert_exporter": "python",
   "pygments_lexer": "ipython3",
   "version": "3.7.6"
  }
 },
 "nbformat": 4,
 "nbformat_minor": 4
}
