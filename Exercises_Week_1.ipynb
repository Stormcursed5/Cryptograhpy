{
 "cells": [
  {
   "cell_type": "markdown",
   "metadata": {},
   "source": [
    "# <font color='blue'> Exercises: $S_n$, Affine cipher, and Caesar with known substring </font>"
   ]
  },
  {
   "cell_type": "markdown",
   "metadata": {},
   "source": [
    " # 1) Properties of $S_n$\n",
    "\n",
    " **(a) Prove that |S_n| = n!.**\n",
    "\n",
    "*Proof (combinatorial):* A permutation of n elements is a bijection from\n",
    " the set \\{1,...,n\\} to itself. To build a permutation we choose an image\n",
    " for 1 in n ways, then an image for 2 in the remaining n-1 ways, and so on.\n",
    " By the rule of product there are n*(n-1)*...*1 = n! different permutations.\n",
    " Therefore |S_n| = n!.\n",
    "\n",
    "**(b) Every permutation is a composition of transpositions.**\n",
    "\n",
    " *Sketch:* Any permutation can be written as a product of disjoint cycles.\n",
    " A k-cycle (a1 a2 ... ak) can be written as the product of k-1 transpositions\n",
    " (a1 ak)(a1 a{k-1})... (a1 a2). Since a permutation is a product of cycles,\n",
    " it becomes a product of transpositions.\n",
    "\n",
    "**(c) Parity invariance:** If a permutation has two decompositions into\n",
    " transpositions with lengths m and s, then (-1)^m = (-1)^s (i.e. m and s\n",
    " have the same parity).\n",
    "\n",
    "### Proof:  \n",
    "* For a permutation $\\sigma \\in S_n$, define the $n \\times n$ **permutation matrix** $P_\\sigma$ by\n",
    "$$\n",
    "(P_\\sigma)_{i,j} =\n",
    "\\begin{cases}\n",
    "1 & \\text{if } i = \\sigma(j),\\\\\n",
    "0 & \\text{otherwise.}\n",
    "\\end{cases}\n",
    "$$ Equivalently, the $j$-th column of $P_\\sigma$ is the standard basis vector $e_{\\sigma(j)}$.\n",
    "\n",
    "\n",
    "* The matrix acts on basis vectors by permuting coordinates:\n",
    "$$\n",
    "P_\\sigma e_j = e_{\\sigma(j)}.\n",
    "$$\n",
    "If $\\tau \\in S_n$ then\n",
    "$$\n",
    "P_\\sigma P_\\tau e_j = P_\\sigma e_{\\tau(j)} = e_{\\sigma(\\tau(j))} = P_{\\sigma\\circ\\tau} e_j.\n",
    "$$\n",
    "Since this holds for every basis vector,\n",
    "$$\n",
    "\\boxed{P_\\sigma P_\\tau = P_{\\sigma\\circ\\tau}}.\n",
    "$$\n",
    "\n",
    "* If $\\tau=(a\\ b)$ is a transposition, then  $\\det P_{\\tau}=-1$. Hence we can use formula above to prove that if  $\\sigma$ is a product of m transpositions, then $\\det P_{\\sigma}=(-1)^m$. Since the determinant of σ is well-defined, any two transposition decompositions must give the same determinant, hence (-1)^m = (-1)^s. \n",
    " \n",
    "* Equivalently, the sign map ${\\rm sgn}: S_n \\to\\{+1,-1\\}$ is well defined and it is a group homomorphism. "
   ]
  },
  {
   "cell_type": "markdown",
   "metadata": {},
   "source": [
    "# 2) Affine cipher: encrypt and decrypt\n",
    "\n",
    " We use the affine cipher on the English alphabet (26 letters). Encryption\n",
    " of a letter x (0..25) is E(x) = (a*x + b) mod 26. Decryption uses the\n",
    " modular inverse a^{-1} of a modulo 26: D(y) = a^{-1} * (y - b) mod 26.\n",
    "\n",
    " We'll implement functions to encrypt and decrypt, then run the example\n",
    " with a = 3, b = 7 on the message: \"Cryptography is wonderful\""
   ]
  },
  {
   "cell_type": "code",
   "execution_count": 2,
   "metadata": {},
   "outputs": [
    {
     "name": "stdout",
     "output_type": "stream",
     "text": [
      "Original message: Cryptography is wonderful\n",
      "Encrypted message: Ngbamxzghacb fj vxuqtgwpo\n",
      "Decrypted message: Cryptography is wonderful\n"
     ]
    }
   ],
   "source": [
    "from typing import Tuple\n",
    "\n",
    "ALPHABET = 'abcdefghijklmnopqrstuvwxyz'\n",
    "\n",
    "def modinv(a: int, m: int) -> int:\n",
    "    \"\"\"Return modular inverse of a mod m, or raise ValueError if none.\"\"\"\n",
    "    a = a % m\n",
    "    # Extended Euclidean algorithm\n",
    "    t0, t1 = 0, 1\n",
    "    r0, r1 = m, a\n",
    "    while r1 != 0:\n",
    "        q = r0 // r1\n",
    "        r0, r1 = r1, r0 - q * r1\n",
    "        t0, t1 = t1, t0 - q * t1\n",
    "    if r0 != 1:\n",
    "        raise ValueError(f\"{a} has no inverse modulo {m}\")\n",
    "    return t0 % m\n",
    "\n",
    "\n",
    "def affine_encrypt(plaintext: str, a: int, b: int) -> str:\n",
    "    ciphertext = []\n",
    "    for ch in plaintext:\n",
    "        if ch.lower() in ALPHABET:\n",
    "            x = ALPHABET.index(ch.lower())\n",
    "            y = (a * x + b) % 26\n",
    "            c = ALPHABET[y]\n",
    "            ciphertext.append(c.upper() if ch.isupper() else c)\n",
    "        else:\n",
    "            ciphertext.append(ch)\n",
    "    return ''.join(ciphertext)\n",
    "\n",
    "\n",
    "def affine_decrypt(ciphertext: str, a: int, b: int) -> str:\n",
    "    a_inv = modinv(a, 26)\n",
    "    plaintext = []\n",
    "    for ch in ciphertext:\n",
    "        if ch.lower() in ALPHABET:\n",
    "            y = ALPHABET.index(ch.lower())\n",
    "            x = (a_inv * (y - b)) % 26\n",
    "            p = ALPHABET[x]\n",
    "            plaintext.append(p.upper() if ch.isupper() else p)\n",
    "        else:\n",
    "            plaintext.append(ch)\n",
    "    return ''.join(plaintext)\n",
    "\n",
    "# Example\n",
    "message = \"Cryptography is wonderful\"\n",
    "a, b = 3, 7\n",
    "cipher = affine_encrypt(message, a, b)\n",
    "plain = affine_decrypt(cipher, a, b)\n",
    "\n",
    "print(\"Original message:\", message)\n",
    "print(\"Encrypted message:\", cipher)\n",
    "print(\"Decrypted message:\", plain)\n"
   ]
  },
  {
   "cell_type": "markdown",
   "metadata": {},
   "source": [
    "# 3) Shift (Caesar) cipher attack \n",
    "\n",
    "The shift (Caesar) cipher encrypts letters as E(x) = x + k (mod 26). If we know that the plaintext contains the substring \"advice\" somewhere, we can try all 26 shifts and check which decrypted message contains that exact\n",
    "substring. We'll implement an automatic search."
   ]
  },
  {
   "cell_type": "code",
   "execution_count": 3,
   "metadata": {},
   "outputs": [
    {
     "name": "stdout",
     "output_type": "stream",
     "text": [
      "Ciphertext:\n",
      " aopz pz tf hkcpjl: zabkf lclyf khf huk il whaplua\n",
      "\n",
      "Candidates (shift k, plaintext) that contain 'advice'):\n",
      "k = 7: this is my advice: study every day and be patient\n"
     ]
    }
   ],
   "source": [
    "ct = \"aopz pz tf hkcpjl: zabkf lclyf khf huk il whaplua\"  # This is the cyphertext\n",
    "\n",
    "def caesar_decrypt(ciphertext: str, k: int) -> str:\n",
    "    res = []\n",
    "    for ch in ciphertext:\n",
    "        if ch.lower() in ALPHABET:\n",
    "            i = ALPHABET.index(ch.lower())\n",
    "            dec = ALPHABET[(i - k) % 26]\n",
    "            res.append(dec.upper() if ch.isupper() else dec)\n",
    "        else:\n",
    "            res.append(ch)\n",
    "    return ''.join(res)\n",
    "\n",
    "candidates = []\n",
    "for k in range(26):\n",
    "    pt = caesar_decrypt(ct, k)\n",
    "    if 'advice' in pt:\n",
    "        candidates.append((k, pt))\n",
    "\n",
    "print(\"Ciphertext:\\n\", ct)\n",
    "print(\"\\nCandidates (shift k, plaintext) that contain 'advice'):\")\n",
    "for k, pt in candidates:\n",
    "    print(f\"k = {k}: {pt}\")\n",
    "\n",
    "# If you run this cell you'll obtain the correct shift (the key) and the full\n",
    "# decrypted message."
   ]
  },
  {
   "cell_type": "code",
   "execution_count": null,
   "metadata": {},
   "outputs": [],
   "source": []
  }
 ],
 "metadata": {
  "kernelspec": {
   "display_name": "Python 3",
   "language": "python",
   "name": "python3"
  },
  "language_info": {
   "codemirror_mode": {
    "name": "ipython",
    "version": 3
   },
   "file_extension": ".py",
   "mimetype": "text/x-python",
   "name": "python",
   "nbconvert_exporter": "python",
   "pygments_lexer": "ipython3",
   "version": "3.7.6"
  }
 },
 "nbformat": 4,
 "nbformat_minor": 4
}
