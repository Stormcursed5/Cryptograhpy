{
 "cells": [
  {
   "cell_type": "markdown",
   "metadata": {},
   "source": [
    "### Extended Euclidean Algorithm — Large Integer Optimized"
   ]
  },
  {
   "cell_type": "code",
   "execution_count": 1,
   "metadata": {},
   "outputs": [],
   "source": [
    "def extended_gcd(a, b):\n",
    "    \"\"\"\n",
    "    Returns (gcd, x, y) such that a*x + b*y = gcd(a, b).\n",
    "    Works efficiently even for very large integers.\n",
    "    \"\"\"\n",
    "    old_r, r = a, b\n",
    "    old_s, s = 1, 0\n",
    "    old_t, t = 0, 1\n",
    "\n",
    "    while r != 0:\n",
    "        q = old_r // r\n",
    "        old_r, r = r, old_r - q * r\n",
    "        old_s, s = s, old_s - q * s\n",
    "        old_t, t = t, old_t - q * t\n",
    "\n",
    "    return old_r, old_s, old_t"
   ]
  },
  {
   "cell_type": "code",
   "execution_count": 2,
   "metadata": {},
   "outputs": [
    {
     "name": "stdout",
     "output_type": "stream",
     "text": [
      "\n",
      "✅ Extended GCD successful for large integers.\n",
      "gcd = 1\n",
      "coefficients = (63113517865286316447241126476127241393872428037354379282002322652121174797665525810387151846028594357576758889439831894682258989227120865496381709092473278742506570800889900722552867080672517189744457315426955613501647890567448986125559816049920915631545955065305002309908708135072226529565686685666369618127, -11345873778343533846935073627856046443139471118926098849445120195204331125169986245846595138789163201572510598814390756029097065145006481600976176385434987746908425765065288176662427404583811639277699093298377380312931089549097804385047950282018196397345287810491557927638438353040341612991537221098085447128946660503251970805032086854214432209362578615902212390553253114636094448873563339169657974871135832981696524367823486558409464367241296976168899276640831964437857401151593346244166987823607494812657647969951979367215264599979648359787299240813358640099730992938880135512313590329821464633968610133949086640958)\n",
      "1\n"
     ]
    }
   ],
   "source": [
    "# Example: Compute gcd and Bézout coefficients with large integers\n",
    "a = 2**2048 + 1\n",
    "b = 2**1024 + 12345\n",
    "gcd, x, y = extended_gcd(a, b)\n",
    "\n",
    "# ✅ Final Check\n",
    "assert a * x + b * y == gcd, \"Bézout identity does not hold!\"\n",
    "print(\"\\n✅ Extended GCD successful for large integers.\")\n",
    "print(f\"gcd = {gcd}\")\n",
    "print(f\"coefficients = {x,y}\")\n",
    "print(a*x+b*y)"
   ]
  },
  {
   "cell_type": "markdown",
   "metadata": {},
   "source": [
    "### Computation of inverses in modular arithmetic with large integers"
   ]
  },
  {
   "cell_type": "code",
   "execution_count": 3,
   "metadata": {},
   "outputs": [
    {
     "name": "stdout",
     "output_type": "stream",
     "text": [
      "Bit lengths: a = 2046 bits, m = 2048 bits\n",
      "Inverse verified: True\n",
      "a   = 2c60bb54…55c735e8\n",
      "m   = 9239623b…fe90b209\n",
      "inv = 248841be…873dedc7\n"
     ]
    }
   ],
   "source": [
    "def modinv(a: int, m: int) -> int:\n",
    "    \"\"\"\n",
    "    Modular inverse using the provided extended_gcd function.\n",
    "    Returns x such that (a * x) % m == 1.\n",
    "    Raises ValueError if gcd(a, m) != 1.\n",
    "    \"\"\"\n",
    "    g, x, _ = extended_gcd(a, m)\n",
    "    if g != 1:\n",
    "        raise ValueError(\"Inverse does not exist (a and m are not coprime).\")\n",
    "    return x % m\n",
    "\n",
    "import secrets\n",
    "#import math\n",
    "# === Demonstration with large integers ===\n",
    "\n",
    "BITS = 2048\n",
    "while True:\n",
    "    m = secrets.randbits(BITS) | 1      # make m odd\n",
    "    a = secrets.randbits(BITS - 1)\n",
    "    a = (a % (m - 2)) + 2               # ensure 1 < a < m\n",
    "    g, _, _ = extended_gcd(a, m)\n",
    "    if g == 1:             # need coprime\n",
    "        break\n",
    "\n",
    "inv = modinv(a, m)\n",
    "\n",
    "print(\"Bit lengths: a =\", a.bit_length(), \"bits, m =\", m.bit_length(), \"bits\")\n",
    "print(\"Inverse verified:\", (a * inv) % m == 1)\n",
    "\n",
    "# Short previews so output isn’t huge\n",
    "def short_hex(x):\n",
    "    h = hex(x)[2:]\n",
    "    return h if len(h) <= 32 else f\"{h[:8]}…{h[-8:]}\"\n",
    "\n",
    "print(\"a   =\", short_hex(a))\n",
    "print(\"m   =\", short_hex(m))\n",
    "print(\"inv =\", short_hex(inv))\n"
   ]
  },
  {
   "cell_type": "markdown",
   "metadata": {},
   "source": [
    "We can show the results with integers:"
   ]
  },
  {
   "cell_type": "code",
   "execution_count": 4,
   "metadata": {},
   "outputs": [
    {
     "name": "stdout",
     "output_type": "stream",
     "text": [
      "Bit lengths: a = 2046 bits, m = 2048 bits\n",
      "\n",
      "a   (decimal) = 5602185626245296831949288132170108396835766522399725226472526766989101905575719320995221822318139356811982597270144297412883672437036931490666506481451442110180029502167494372434557738777971400518156685245747962519160806035862257207050649806905834306954129689647791628402120237052817985861260803304521272052840122875753500853586326303537993515423077216044977579213532605113398899074742675796435072885608657392349742386408086201943535014983918840135121041443509829828284484835870869677591737549724270612362600375530776126622643937878688426305442458897768822340108252952749098952154237248199816760496503267674424817128\n",
      "m   (decimal) = 18459089495917326099793245586709808294986117890121744138449360544155209606044135706269227922886485874317785568657649625889617310223114332749029933063865729881275566930848961560886915430292849686960999158048294077623066116797968592177464544409209389599353678021141359170507156447512653260257725428353435261701187898205894603562286928007570624426837955174700245583513948026599254365102832555816731701390357050469013457200452983657617601684554184738085398041914542301598731718916368953246878984547772582221985631636191063886896214029261654906107679517006392516818179447779160229883517124190175670359715584734799867195913\n",
      "inv (decimal) = 4611769715750964157670058030212136823963617766287345512545449724102247692013205034413077956453660013721679105192770581519612781306895975535904533589791447281356679498734676057860529455228734596386105864462086830947130336548366941325154420028867585316846035180544647228444480947347965592709572377813018932490451130564992229348147523977501163521703420679968356175045677870705100594346166152476528427637679337062700911115261723275987671560214388774178816459011698017656223845691198941602903704990502564094245703785098297648697407221465602702047990839432128190261496613923899640060704517775937432667846513660001284648391\n",
      "\n",
      "Verification: True\n"
     ]
    }
   ],
   "source": [
    "print(f\"Bit lengths: a = {a.bit_length()} bits, m = {m.bit_length()} bits\\n\")\n",
    "print(\"a   (decimal) =\", a)     # full integer\n",
    "print(\"m   (decimal) =\", m)\n",
    "print(\"inv (decimal) =\", inv)\n",
    "print(\"\\nVerification:\", (a * inv) % m == 1)"
   ]
  }
 ],
 "metadata": {
  "kernelspec": {
   "display_name": "Python 3",
   "language": "python",
   "name": "python3"
  },
  "language_info": {
   "codemirror_mode": {
    "name": "ipython",
    "version": 3
   },
   "file_extension": ".py",
   "mimetype": "text/x-python",
   "name": "python",
   "nbconvert_exporter": "python",
   "pygments_lexer": "ipython3",
   "version": "3.7.6"
  }
 },
 "nbformat": 4,
 "nbformat_minor": 4
}
