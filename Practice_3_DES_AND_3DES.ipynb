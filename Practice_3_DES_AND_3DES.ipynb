{
 "cells": [
  {
   "cell_type": "code",
   "execution_count": 3,
   "metadata": {},
   "outputs": [
    {
     "name": "stdout",
     "output_type": "stream",
     "text": [
      "Collecting pycryptodome\n",
      "  Downloading pycryptodome-3.23.0-cp37-abi3-macosx_10_9_x86_64.whl.metadata (3.4 kB)\n",
      "Downloading pycryptodome-3.23.0-cp37-abi3-macosx_10_9_x86_64.whl (1.6 MB)\n",
      "\u001b[2K   \u001b[90m━━━━━━━━━━━━━━━━━━━━━━━━━━━━━━━━━━━━━━━━\u001b[0m \u001b[32m1.6/1.6 MB\u001b[0m \u001b[31m14.2 MB/s\u001b[0m eta \u001b[36m0:00:00\u001b[0m00:01\u001b[0m00:01\u001b[0m\n",
      "\u001b[?25h\u001b[33mDEPRECATION: pyodbc 4.0.0-unsupported has a non-standard version number. pip 24.1 will enforce this behaviour change. A possible replacement is to upgrade to a newer version of pyodbc or contact the author to suggest that they release a version with a conforming version number. Discussion can be found at https://github.com/pypa/pip/issues/12063\u001b[0m\u001b[33m\n",
      "\u001b[0mInstalling collected packages: pycryptodome\n",
      "Successfully installed pycryptodome-3.23.0\n",
      "Note: you may need to restart the kernel to use updated packages.\n"
     ]
    }
   ],
   "source": [
    "pip install pycryptodome"
   ]
  },
  {
   "cell_type": "code",
   "execution_count": 1,
   "metadata": {},
   "outputs": [
    {
     "name": "stdout",
     "output_type": "stream",
     "text": [
      "Original plaintext (bytes): b'A un amigo perdido'\n",
      "Original plaintext (bits):  010000010010000001110101011011100010000001100001011011010110100101100111011011110010000001110000011001010111001001100100011010010110010001101111\n",
      "\n",
      "--- 3DES with cryptography ---\n",
      "Key (bits):          111100101011000101001111110100111011111110011101101001001000111000011001111101110010000000001101110100100000111110000111010000000000000100100101110100010010101101010101111000011001000101111100\n",
      "IV (bits):           1111110001011110000011011010101110000100100000110100101001011001\n",
      "Ciphertext (bits):   000100111101000100111111010001010101100010100001001110010011110010000111101100111101011001100011111011110001101000010010111110110111010100000001110000100100011111111101110011110111000011101000\n",
      "Decrypted (bits):    010000010010000001110101011011100010000001100001011011010110100101100111011011110010000001110000011001010111001001100100011010010110010001101111\n",
      "Decrypted (text):    b'A un amigo perdido'\n"
     ]
    }
   ],
   "source": [
    "from cryptography.hazmat.primitives.ciphers import Cipher, algorithms, modes\n",
    "from cryptography.hazmat.primitives import padding\n",
    "from cryptography.hazmat.backends import default_backend\n",
    "from os import urandom\n",
    "\n",
    "BLOCK_SIZE_BITS = 64  # TripleDES uses 64-bit blocks\n",
    "\n",
    "def bytes_to_bitstring(data: bytes) -> str:\n",
    "    return ''.join(f'{b:08b}' for b in data)\n",
    "\n",
    "def pad_data(data: bytes) -> bytes:\n",
    "    padder = padding.PKCS7(BLOCK_SIZE_BITS).padder()\n",
    "    return padder.update(data) + padder.finalize()\n",
    "\n",
    "def unpad_data(padded_data: bytes) -> bytes:\n",
    "    unpadder = padding.PKCS7(BLOCK_SIZE_BITS).unpadder()\n",
    "    return unpadder.update(padded_data) + unpadder.finalize()\n",
    "\n",
    "def des3_encrypt(key: bytes, iv: bytes, plaintext: bytes) -> bytes:\n",
    "    cipher = Cipher(algorithms.TripleDES(key), modes.CBC(iv), backend=default_backend())\n",
    "    encryptor = cipher.encryptor()\n",
    "    padded = pad_data(plaintext)\n",
    "    return encryptor.update(padded) + encryptor.finalize()\n",
    "\n",
    "def des3_decrypt(key: bytes, iv: bytes, ciphertext: bytes) -> bytes:\n",
    "    cipher = Cipher(algorithms.TripleDES(key), modes.CBC(iv), backend=default_backend())\n",
    "    decryptor = cipher.decryptor()\n",
    "    decrypted_padded = decryptor.update(ciphertext) + decryptor.finalize()\n",
    "    return unpad_data(decrypted_padded)\n",
    "\n",
    "def generate_3des_key() -> bytes:\n",
    "    return urandom(24)  # 24 bytes = 192-bit key (3-key 3DES)\n",
    "\n",
    "def generate_iv() -> bytes:\n",
    "    return urandom(8)  # Block size = 8 bytes for DES/3DES\n",
    "\n",
    "# === MAIN TEST ===\n",
    "if __name__ == \"__main__\":\n",
    "    message = b\"A un amigo perdido\"\n",
    "\n",
    "    print(\"Original plaintext (bytes):\", message)\n",
    "    print(\"Original plaintext (bits): \", bytes_to_bitstring(message))\n",
    "\n",
    "    key = generate_3des_key()\n",
    "    iv = generate_iv()\n",
    "\n",
    "    ciphertext = des3_encrypt(key, iv, message)\n",
    "    decrypted = des3_decrypt(key, iv, ciphertext)\n",
    "\n",
    "    print(\"\\n--- 3DES with cryptography ---\")\n",
    "    print(\"Key (bits):         \", bytes_to_bitstring(key))\n",
    "    print(\"IV (bits):          \", bytes_to_bitstring(iv))\n",
    "    print(\"Ciphertext (bits):  \", bytes_to_bitstring(ciphertext))\n",
    "    print(\"Decrypted (bits):   \", bytes_to_bitstring(decrypted))\n",
    "    print(\"Decrypted (text):   \", decrypted)\n"
   ]
  },
  {
   "cell_type": "markdown",
   "metadata": {},
   "source": [
    "<strong> NOT(DES(m, k)) = DES(NOT(m), NOT(k)) </strong>\n",
    "\n",
    "This identity:\n",
    "\n",
    "Only applies to the DES cipher\n",
    "\n",
    "Only holds for ECB mode\n",
    "\n",
    "Does not extend to 3DES\n",
    "\n",
    "Requires a block-aligned, unpadded message"
   ]
  },
  {
   "cell_type": "markdown",
   "metadata": {},
   "source": [
    "Here’s a test script that:\n",
    "\n",
    "Generates a random 8-byte key and 8-byte plaintext.\n",
    "\n",
    "Computes DES(m, k)\n",
    "\n",
    "Computes NOT(DES(m, k))\n",
    "\n",
    "Compares it to DES(NOT(m), NOT(k))"
   ]
  },
  {
   "cell_type": "code",
   "execution_count": 2,
   "metadata": {},
   "outputs": [
    {
     "name": "stdout",
     "output_type": "stream",
     "text": [
      "Original message     : 0100011000000110100111010110101111010101101011001110001001101101\n",
      "Original key         : 0001101110001101001100111101000110010011111001001001010000110100\n",
      "\n",
      "DES(m, k)            : 1000110011101111101010011111111110010010111001110011011001100011\n",
      "NOT(DES(m, k))       : 0111001100010000010101100000000001101101000110001100100110011100\n",
      "DES(NOT(m), NOT(k))  : 0111001100010000010101100000000001101101000110001100100110011100\n",
      "\n",
      "Test passed?         : True\n"
     ]
    }
   ],
   "source": [
    "from Crypto.Cipher import DES\n",
    "from Crypto.Random import get_random_bytes\n",
    "\n",
    "def bytes_to_bitstring(data: bytes) -> str:\n",
    "    return ''.join(f'{b:08b}' for b in data)\n",
    "\n",
    "def bitstring_to_bytes(bitstr: str) -> bytes:\n",
    "    return int(bitstr, 2).to_bytes(len(bitstr) // 8, byteorder='big')\n",
    "\n",
    "def flip_bits(data: bytes) -> bytes:\n",
    "    return bytes(~b & 0xFF for b in data)\n",
    "\n",
    "def des_encrypt_ecb(key: bytes, plaintext: bytes) -> bytes:\n",
    "    cipher = DES.new(key, DES.MODE_ECB)\n",
    "    return cipher.encrypt(plaintext)\n",
    "\n",
    "# === Main check ===\n",
    "if __name__ == \"__main__\":\n",
    "    # Use 8-byte aligned data (no padding)\n",
    "    m = get_random_bytes(8)\n",
    "    k = get_random_bytes(8)\n",
    "\n",
    "    print(\"Original message     :\", bytes_to_bitstring(m))\n",
    "    print(\"Original key         :\", bytes_to_bitstring(k))\n",
    "\n",
    "    # DES(m, k)\n",
    "    c = des_encrypt_ecb(k, m)\n",
    "    not_c = flip_bits(c)\n",
    "\n",
    "    # DES(NOT(m), NOT(k))\n",
    "    not_m = flip_bits(m)\n",
    "    not_k = flip_bits(k)\n",
    "    c2 = des_encrypt_ecb(not_k, not_m)\n",
    "\n",
    "    print(\"\\nDES(m, k)            :\", bytes_to_bitstring(c))\n",
    "    print(\"NOT(DES(m, k))       :\", bytes_to_bitstring(not_c))\n",
    "    print(\"DES(NOT(m), NOT(k))  :\", bytes_to_bitstring(c2))\n",
    "\n",
    "    print(\"\\nTest passed?         :\", not_c == c2)\n"
   ]
  },
  {
   "cell_type": "code",
   "execution_count": null,
   "metadata": {},
   "outputs": [],
   "source": []
  }
 ],
 "metadata": {
  "kernelspec": {
   "display_name": "Python 3",
   "language": "python",
   "name": "python3"
  },
  "language_info": {
   "codemirror_mode": {
    "name": "ipython",
    "version": 3
   },
   "file_extension": ".py",
   "mimetype": "text/x-python",
   "name": "python",
   "nbconvert_exporter": "python",
   "pygments_lexer": "ipython3",
   "version": "3.7.6"
  }
 },
 "nbformat": 4,
 "nbformat_minor": 4
}
