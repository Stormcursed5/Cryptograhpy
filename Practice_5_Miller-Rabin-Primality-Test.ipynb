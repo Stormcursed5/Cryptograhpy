{
 "cells": [
  {
   "cell_type": "markdown",
   "metadata": {},
   "source": [
    "# Miller–Rabin Primality Test – Jupyter Notebook"
   ]
  },
  {
   "cell_type": "markdown",
   "metadata": {},
   "source": [
    "The Miller–Rabin primality test is a **probabilistic** algorithm used to test whether a number is prime.\n",
    "It is widely used in cryptographic algorithms for generating large prime numbers.\n",
    "\n",
    "This test is based on the properties of modular arithmetic and is an improvement over Fermat's Little Theorem.\n",
    "If a number passes the test for enough random bases, it is considered \"probably prime\" with very high confidence.\n"
   ]
  },
  {
   "cell_type": "markdown",
   "metadata": {},
   "source": [
    "### Step 1 – Decompose \\( n-1 \\) as \\( 2^s \\cdot d \\)"
   ]
  },
  {
   "cell_type": "code",
   "execution_count": 1,
   "metadata": {},
   "outputs": [
    {
     "name": "stdout",
     "output_type": "stream",
     "text": [
      "n - 1 = 2^4 * 35\n"
     ]
    }
   ],
   "source": [
    "def decompose(n):\n",
    "    s = 0\n",
    "    d = n - 1\n",
    "    while d % 2 == 0:\n",
    "        d //= 2\n",
    "        s += 1\n",
    "    return s, d\n",
    "\n",
    "# Example\n",
    "n = 561  # Try a Carmichael number\n",
    "s, d = decompose(n)\n",
    "print(f\"n - 1 = 2^{s} * {d}\")\n"
   ]
  },
  {
   "cell_type": "markdown",
   "metadata": {},
   "source": [
    "### Step 2 – Single Miller–Rabin Round"
   ]
  },
  {
   "cell_type": "code",
   "execution_count": 2,
   "metadata": {},
   "outputs": [],
   "source": [
    "def miller_rabin_round(n, a, s, d):\n",
    "    x = pow(a, d, n)\n",
    "    if x == 1 or x == n - 1:\n",
    "        return True\n",
    "    for _ in range(s - 1):\n",
    "        x = pow(x, 2, n)\n",
    "        if x == n - 1:\n",
    "            return True\n",
    "    return False\n"
   ]
  },
  {
   "cell_type": "markdown",
   "metadata": {},
   "source": [
    "## Full Miller–Rabin Test"
   ]
  },
  {
   "cell_type": "code",
   "execution_count": 3,
   "metadata": {},
   "outputs": [],
   "source": [
    "import random\n",
    "\n",
    "def is_probable_prime(n, k=5):\n",
    "    if n < 2:\n",
    "        return False\n",
    "    if n in (2, 3):\n",
    "        return True\n",
    "    if n % 2 == 0:\n",
    "        return False\n",
    "\n",
    "    s, d = decompose(n)\n",
    "\n",
    "    for _ in range(k):\n",
    "        a = random.randrange(2, n - 2)\n",
    "        if not miller_rabin_round(n, a, s, d):\n",
    "            return False\n",
    "    return True\n"
   ]
  },
  {
   "cell_type": "markdown",
   "metadata": {},
   "source": [
    "### Try It Out – Test Some Numbers"
   ]
  },
  {
   "cell_type": "code",
   "execution_count": 4,
   "metadata": {},
   "outputs": [
    {
     "name": "stdout",
     "output_type": "stream",
     "text": [
      "3 is probably prime\n",
      "5 is probably prime\n",
      "13 is probably prime\n",
      "17 is probably prime\n",
      "19 is probably prime\n",
      "561 is composite\n",
      "1105 is composite\n",
      "1729 is composite\n",
      "7919 is probably prime\n",
      "999331 is probably prime\n",
      "32416190071 is probably prime\n"
     ]
    }
   ],
   "source": [
    "test_numbers = [3, 5, 13, 17, 19, 561, 1105, 1729, 7919, 999331, 32416190071]\n",
    "for num in test_numbers:\n",
    "    result = is_probable_prime(num, k=8)\n",
    "    print(f\"{num} is {'probably prime' if result else 'composite'}\")\n"
   ]
  },
  {
   "cell_type": "markdown",
   "metadata": {},
   "source": [
    "### Error Probability\n",
    "\n",
    "The probability that a composite number passes all `k` rounds of Miller–Rabin testing is at most \\( (1/4)^k \\).\n",
    "\n",
    "So with `k = 8`, the chance of a false positive is:\n",
    "\n",
    "$$\\left( \\frac{1}{4} \\right)^8 = \\frac{1}{65536} \\approx 0.0015\\%$$\n",
    "\n",
    "This makes the test extremely reliable for practical use in cryptography.\n"
   ]
  },
  {
   "cell_type": "markdown",
   "metadata": {},
   "source": [
    "### Final Notes\n",
    "\n",
    "- Miller–Rabin is **fast**, **scalable**, and **widely used** (e.g., RSA key generation).\n",
    "- Unlike deterministic primality tests, it’s probabilistic, but the error can be made *arbitrarily small*.\n",
    "- It detects even tricky composite numbers like **Carmichael numbers**.\n"
   ]
  },
  {
   "cell_type": "code",
   "execution_count": null,
   "metadata": {},
   "outputs": [],
   "source": []
  }
 ],
 "metadata": {
  "kernelspec": {
   "display_name": "Python 3",
   "language": "python",
   "name": "python3"
  },
  "language_info": {
   "codemirror_mode": {
    "name": "ipython",
    "version": 3
   },
   "file_extension": ".py",
   "mimetype": "text/x-python",
   "name": "python",
   "nbconvert_exporter": "python",
   "pygments_lexer": "ipython3",
   "version": "3.7.6"
  }
 },
 "nbformat": 4,
 "nbformat_minor": 5
}
